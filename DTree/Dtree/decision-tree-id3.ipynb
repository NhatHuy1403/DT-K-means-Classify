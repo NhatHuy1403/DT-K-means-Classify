{
 "cells": [
  {
   "cell_type": "code",
   "execution_count": null,
   "metadata": {},
   "outputs": [],
   "source": []
  },
  {
   "cell_type": "code",
   "execution_count": 1,
   "metadata": {
    "execution": {
     "iopub.execute_input": "2022-10-29T06:32:56.522021Z",
     "iopub.status.busy": "2022-10-29T06:32:56.521468Z",
     "iopub.status.idle": "2022-10-29T06:32:57.507567Z",
     "shell.execute_reply": "2022-10-29T06:32:57.506518Z",
     "shell.execute_reply.started": "2022-10-29T06:32:56.521927Z"
    },
    "id": "0kl4dkYcL5P_"
   },
   "outputs": [],
   "source": [
    "# import các thư viện cần thiết\n",
    "from math import log\n",
    "import numpy as np\n",
    "import pandas as pd\n",
    "import matplotlib.pyplot as plt\n",
    "import seaborn as sns\n",
    "from pprint import pprint\n",
    "from sklearn.model_selection import train_test_split\n",
    "import statistics\n",
    "import os\n",
    "import warnings\n",
    "warnings.filterwarnings('ignore')\n",
    "\n",
    "%matplotlib inline\n",
    "\n",
    "plt.rcParams['figure.figsize'] = (16, 9)\n",
    "plt.rcParams['font.size'] = 23\n"
   ]
  },
  {
   "cell_type": "markdown",
   "metadata": {
    "id": "e74wLg2jL5QB"
   },
   "source": [
    "## Khám phá dữ liệu"
   ]
  },
  {
   "cell_type": "code",
   "execution_count": 2,
   "metadata": {
    "colab": {
     "base_uri": "https://localhost:8080/"
    },
    "execution": {
     "iopub.execute_input": "2022-10-29T06:32:57.526220Z",
     "iopub.status.busy": "2022-10-29T06:32:57.525777Z",
     "iopub.status.idle": "2022-10-29T06:32:58.197811Z",
     "shell.execute_reply": "2022-10-29T06:32:58.196803Z",
     "shell.execute_reply.started": "2022-10-29T06:32:57.526153Z"
    },
    "id": "hJg-4airL5QB",
    "outputId": "063e765f-ac21-4a20-fa07-719b51c8b65b"
   },
   "outputs": [
    {
     "data": {
      "text/plain": [
       "(101, 19)"
      ]
     },
     "execution_count": 2,
     "metadata": {},
     "output_type": "execute_result"
    }
   ],
   "source": [
    "# đọc và xem kích thước dữ liệu\n",
    "df = pd.read_csv('data.csv',index_col=0)\n",
    "df.shape"
   ]
  },
  {
   "cell_type": "code",
   "execution_count": 3,
   "metadata": {
    "execution": {
     "iopub.execute_input": "2022-10-29T06:32:58.199069Z",
     "iopub.status.busy": "2022-10-29T06:32:58.198804Z",
     "iopub.status.idle": "2022-10-29T06:32:58.243343Z",
     "shell.execute_reply": "2022-10-29T06:32:58.242205Z",
     "shell.execute_reply.started": "2022-10-29T06:32:58.199042Z"
    }
   },
   "outputs": [
    {
     "data": {
      "text/html": [
       "<div>\n",
       "<style scoped>\n",
       "    .dataframe tbody tr th:only-of-type {\n",
       "        vertical-align: middle;\n",
       "    }\n",
       "\n",
       "    .dataframe tbody tr th {\n",
       "        vertical-align: top;\n",
       "    }\n",
       "\n",
       "    .dataframe thead th {\n",
       "        text-align: right;\n",
       "    }\n",
       "</style>\n",
       "<table border=\"1\" class=\"dataframe\">\n",
       "  <thead>\n",
       "    <tr style=\"text-align: right;\">\n",
       "      <th></th>\n",
       "      <th>animal_name</th>\n",
       "      <th>hair</th>\n",
       "      <th>feathers</th>\n",
       "      <th>eggs</th>\n",
       "      <th>milk</th>\n",
       "      <th>airborne</th>\n",
       "      <th>aquatic</th>\n",
       "      <th>predator</th>\n",
       "      <th>toothed</th>\n",
       "      <th>backbone</th>\n",
       "      <th>breathes</th>\n",
       "      <th>venomous</th>\n",
       "      <th>fins</th>\n",
       "      <th>legs</th>\n",
       "      <th>tail</th>\n",
       "      <th>domestic</th>\n",
       "      <th>catsize</th>\n",
       "      <th>class_type</th>\n",
       "      <th>Class_Type</th>\n",
       "    </tr>\n",
       "  </thead>\n",
       "  <tbody>\n",
       "    <tr>\n",
       "      <th>0</th>\n",
       "      <td>aardvark</td>\n",
       "      <td>1</td>\n",
       "      <td>0</td>\n",
       "      <td>0</td>\n",
       "      <td>1</td>\n",
       "      <td>0</td>\n",
       "      <td>0</td>\n",
       "      <td>1</td>\n",
       "      <td>1</td>\n",
       "      <td>1</td>\n",
       "      <td>1</td>\n",
       "      <td>0</td>\n",
       "      <td>0</td>\n",
       "      <td>4</td>\n",
       "      <td>0</td>\n",
       "      <td>0</td>\n",
       "      <td>1</td>\n",
       "      <td>1</td>\n",
       "      <td>Mammal</td>\n",
       "    </tr>\n",
       "    <tr>\n",
       "      <th>1</th>\n",
       "      <td>antelope</td>\n",
       "      <td>1</td>\n",
       "      <td>0</td>\n",
       "      <td>0</td>\n",
       "      <td>1</td>\n",
       "      <td>0</td>\n",
       "      <td>0</td>\n",
       "      <td>0</td>\n",
       "      <td>1</td>\n",
       "      <td>1</td>\n",
       "      <td>1</td>\n",
       "      <td>0</td>\n",
       "      <td>0</td>\n",
       "      <td>4</td>\n",
       "      <td>1</td>\n",
       "      <td>0</td>\n",
       "      <td>1</td>\n",
       "      <td>1</td>\n",
       "      <td>Mammal</td>\n",
       "    </tr>\n",
       "    <tr>\n",
       "      <th>2</th>\n",
       "      <td>bass</td>\n",
       "      <td>0</td>\n",
       "      <td>0</td>\n",
       "      <td>1</td>\n",
       "      <td>0</td>\n",
       "      <td>0</td>\n",
       "      <td>1</td>\n",
       "      <td>1</td>\n",
       "      <td>1</td>\n",
       "      <td>1</td>\n",
       "      <td>0</td>\n",
       "      <td>0</td>\n",
       "      <td>1</td>\n",
       "      <td>0</td>\n",
       "      <td>1</td>\n",
       "      <td>0</td>\n",
       "      <td>0</td>\n",
       "      <td>4</td>\n",
       "      <td>Fish</td>\n",
       "    </tr>\n",
       "    <tr>\n",
       "      <th>3</th>\n",
       "      <td>bear</td>\n",
       "      <td>1</td>\n",
       "      <td>0</td>\n",
       "      <td>0</td>\n",
       "      <td>1</td>\n",
       "      <td>0</td>\n",
       "      <td>0</td>\n",
       "      <td>1</td>\n",
       "      <td>1</td>\n",
       "      <td>1</td>\n",
       "      <td>1</td>\n",
       "      <td>0</td>\n",
       "      <td>0</td>\n",
       "      <td>4</td>\n",
       "      <td>0</td>\n",
       "      <td>0</td>\n",
       "      <td>1</td>\n",
       "      <td>1</td>\n",
       "      <td>Mammal</td>\n",
       "    </tr>\n",
       "    <tr>\n",
       "      <th>4</th>\n",
       "      <td>boar</td>\n",
       "      <td>1</td>\n",
       "      <td>0</td>\n",
       "      <td>0</td>\n",
       "      <td>1</td>\n",
       "      <td>0</td>\n",
       "      <td>0</td>\n",
       "      <td>1</td>\n",
       "      <td>1</td>\n",
       "      <td>1</td>\n",
       "      <td>1</td>\n",
       "      <td>0</td>\n",
       "      <td>0</td>\n",
       "      <td>4</td>\n",
       "      <td>1</td>\n",
       "      <td>0</td>\n",
       "      <td>1</td>\n",
       "      <td>1</td>\n",
       "      <td>Mammal</td>\n",
       "    </tr>\n",
       "  </tbody>\n",
       "</table>\n",
       "</div>"
      ],
      "text/plain": [
       "  animal_name  hair  feathers  eggs  milk  airborne  aquatic  predator  \\\n",
       "0    aardvark     1         0     0     1         0        0         1   \n",
       "1    antelope     1         0     0     1         0        0         0   \n",
       "2        bass     0         0     1     0         0        1         1   \n",
       "3        bear     1         0     0     1         0        0         1   \n",
       "4        boar     1         0     0     1         0        0         1   \n",
       "\n",
       "   toothed  backbone  breathes  venomous  fins  legs  tail  domestic  catsize  \\\n",
       "0        1         1         1         0     0     4     0         0        1   \n",
       "1        1         1         1         0     0     4     1         0        1   \n",
       "2        1         1         0         0     1     0     1         0        0   \n",
       "3        1         1         1         0     0     4     0         0        1   \n",
       "4        1         1         1         0     0     4     1         0        1   \n",
       "\n",
       "   class_type Class_Type  \n",
       "0           1     Mammal  \n",
       "1           1     Mammal  \n",
       "2           4       Fish  \n",
       "3           1     Mammal  \n",
       "4           1     Mammal  "
      ]
     },
     "execution_count": 3,
     "metadata": {},
     "output_type": "execute_result"
    }
   ],
   "source": [
    "# xem 5 dòng đầu\n",
    "df.head()"
   ]
  },
  {
   "cell_type": "code",
   "execution_count": 4,
   "metadata": {},
   "outputs": [],
   "source": [
    "df=df.drop('animal_name',axis=1)"
   ]
  },
  {
   "cell_type": "code",
   "execution_count": 5,
   "metadata": {
    "colab": {
     "base_uri": "https://localhost:8080/"
    },
    "execution": {
     "iopub.execute_input": "2022-10-29T06:32:58.244768Z",
     "iopub.status.busy": "2022-10-29T06:32:58.244490Z",
     "iopub.status.idle": "2022-10-29T06:32:58.299452Z",
     "shell.execute_reply": "2022-10-29T06:32:58.298440Z",
     "shell.execute_reply.started": "2022-10-29T06:32:58.244740Z"
    },
    "id": "L-0wF1BGL5QC",
    "outputId": "687b57eb-fa8e-4bf9-d361-7628d1bf8e72"
   },
   "outputs": [
    {
     "data": {
      "text/plain": [
       "hair          0\n",
       "feathers      0\n",
       "eggs          0\n",
       "milk          0\n",
       "airborne      0\n",
       "aquatic       0\n",
       "predator      0\n",
       "toothed       0\n",
       "backbone      0\n",
       "breathes      0\n",
       "venomous      0\n",
       "fins          0\n",
       "legs          0\n",
       "tail          0\n",
       "domestic      0\n",
       "catsize       0\n",
       "class_type    0\n",
       "Class_Type    0\n",
       "dtype: int64"
      ]
     },
     "execution_count": 5,
     "metadata": {},
     "output_type": "execute_result"
    }
   ],
   "source": [
    "# kiểm tra số lượng dữ liệu nan\n",
    "df.isna().sum()"
   ]
  },
  {
   "cell_type": "code",
   "execution_count": 6,
   "metadata": {
    "colab": {
     "base_uri": "https://localhost:8080/"
    },
    "execution": {
     "iopub.execute_input": "2022-10-29T06:32:58.300861Z",
     "iopub.status.busy": "2022-10-29T06:32:58.300578Z",
     "iopub.status.idle": "2022-10-29T06:32:58.388130Z",
     "shell.execute_reply": "2022-10-29T06:32:58.387081Z",
     "shell.execute_reply.started": "2022-10-29T06:32:58.300833Z"
    },
    "id": "fYY-53O3L5QD",
    "outputId": "51a1a092-5757-4b84-cd5d-402b4183dbeb"
   },
   "outputs": [
    {
     "data": {
      "text/plain": [
       "(101, 18)"
      ]
     },
     "execution_count": 6,
     "metadata": {},
     "output_type": "execute_result"
    }
   ],
   "source": [
    "# xóa tất cả dữ liệu nan\n",
    "df = df.dropna()\n",
    "df.shape"
   ]
  },
  {
   "cell_type": "code",
   "execution_count": 7,
   "metadata": {
    "execution": {
     "iopub.execute_input": "2022-10-29T06:32:58.405652Z",
     "iopub.status.busy": "2022-10-29T06:32:58.405314Z",
     "iopub.status.idle": "2022-10-29T06:32:58.426379Z",
     "shell.execute_reply": "2022-10-29T06:32:58.425251Z",
     "shell.execute_reply.started": "2022-10-29T06:32:58.405620Z"
    }
   },
   "outputs": [
    {
     "name": "stdout",
     "output_type": "stream",
     "text": [
      "<class 'pandas.core.frame.DataFrame'>\n",
      "Int64Index: 101 entries, 0 to 100\n",
      "Data columns (total 18 columns):\n",
      " #   Column      Non-Null Count  Dtype \n",
      "---  ------      --------------  ----- \n",
      " 0   hair        101 non-null    int64 \n",
      " 1   feathers    101 non-null    int64 \n",
      " 2   eggs        101 non-null    int64 \n",
      " 3   milk        101 non-null    int64 \n",
      " 4   airborne    101 non-null    int64 \n",
      " 5   aquatic     101 non-null    int64 \n",
      " 6   predator    101 non-null    int64 \n",
      " 7   toothed     101 non-null    int64 \n",
      " 8   backbone    101 non-null    int64 \n",
      " 9   breathes    101 non-null    int64 \n",
      " 10  venomous    101 non-null    int64 \n",
      " 11  fins        101 non-null    int64 \n",
      " 12  legs        101 non-null    int64 \n",
      " 13  tail        101 non-null    int64 \n",
      " 14  domestic    101 non-null    int64 \n",
      " 15  catsize     101 non-null    int64 \n",
      " 16  class_type  101 non-null    int64 \n",
      " 17  Class_Type  101 non-null    object\n",
      "dtypes: int64(17), object(1)\n",
      "memory usage: 15.0+ KB\n"
     ]
    }
   ],
   "source": [
    "# xem thông tin bộ dữ liệu\n",
    "df.info()"
   ]
  },
  {
   "cell_type": "code",
   "execution_count": 8,
   "metadata": {
    "execution": {
     "iopub.execute_input": "2022-10-29T06:32:58.428280Z",
     "iopub.status.busy": "2022-10-29T06:32:58.427858Z",
     "iopub.status.idle": "2022-10-29T06:32:58.497181Z",
     "shell.execute_reply": "2022-10-29T06:32:58.496233Z",
     "shell.execute_reply.started": "2022-10-29T06:32:58.428222Z"
    }
   },
   "outputs": [
    {
     "data": {
      "text/html": [
       "<div>\n",
       "<style scoped>\n",
       "    .dataframe tbody tr th:only-of-type {\n",
       "        vertical-align: middle;\n",
       "    }\n",
       "\n",
       "    .dataframe tbody tr th {\n",
       "        vertical-align: top;\n",
       "    }\n",
       "\n",
       "    .dataframe thead th {\n",
       "        text-align: right;\n",
       "    }\n",
       "</style>\n",
       "<table border=\"1\" class=\"dataframe\">\n",
       "  <thead>\n",
       "    <tr style=\"text-align: right;\">\n",
       "      <th></th>\n",
       "      <th>hair</th>\n",
       "      <th>feathers</th>\n",
       "      <th>eggs</th>\n",
       "      <th>milk</th>\n",
       "      <th>airborne</th>\n",
       "      <th>aquatic</th>\n",
       "      <th>predator</th>\n",
       "      <th>toothed</th>\n",
       "      <th>backbone</th>\n",
       "      <th>breathes</th>\n",
       "      <th>venomous</th>\n",
       "      <th>fins</th>\n",
       "      <th>legs</th>\n",
       "      <th>tail</th>\n",
       "      <th>domestic</th>\n",
       "      <th>catsize</th>\n",
       "      <th>class_type</th>\n",
       "    </tr>\n",
       "  </thead>\n",
       "  <tbody>\n",
       "    <tr>\n",
       "      <th>count</th>\n",
       "      <td>101.000000</td>\n",
       "      <td>101.000000</td>\n",
       "      <td>101.000000</td>\n",
       "      <td>101.000000</td>\n",
       "      <td>101.000000</td>\n",
       "      <td>101.000000</td>\n",
       "      <td>101.000000</td>\n",
       "      <td>101.000000</td>\n",
       "      <td>101.000000</td>\n",
       "      <td>101.000000</td>\n",
       "      <td>101.000000</td>\n",
       "      <td>101.000000</td>\n",
       "      <td>101.000000</td>\n",
       "      <td>101.000000</td>\n",
       "      <td>101.000000</td>\n",
       "      <td>101.000000</td>\n",
       "      <td>101.000000</td>\n",
       "    </tr>\n",
       "    <tr>\n",
       "      <th>mean</th>\n",
       "      <td>0.425743</td>\n",
       "      <td>0.198020</td>\n",
       "      <td>0.584158</td>\n",
       "      <td>0.405941</td>\n",
       "      <td>0.237624</td>\n",
       "      <td>0.356436</td>\n",
       "      <td>0.554455</td>\n",
       "      <td>0.603960</td>\n",
       "      <td>0.821782</td>\n",
       "      <td>0.792079</td>\n",
       "      <td>0.079208</td>\n",
       "      <td>0.168317</td>\n",
       "      <td>2.841584</td>\n",
       "      <td>0.742574</td>\n",
       "      <td>0.128713</td>\n",
       "      <td>0.435644</td>\n",
       "      <td>2.831683</td>\n",
       "    </tr>\n",
       "    <tr>\n",
       "      <th>std</th>\n",
       "      <td>0.496921</td>\n",
       "      <td>0.400495</td>\n",
       "      <td>0.495325</td>\n",
       "      <td>0.493522</td>\n",
       "      <td>0.427750</td>\n",
       "      <td>0.481335</td>\n",
       "      <td>0.499505</td>\n",
       "      <td>0.491512</td>\n",
       "      <td>0.384605</td>\n",
       "      <td>0.407844</td>\n",
       "      <td>0.271410</td>\n",
       "      <td>0.376013</td>\n",
       "      <td>2.033385</td>\n",
       "      <td>0.439397</td>\n",
       "      <td>0.336552</td>\n",
       "      <td>0.498314</td>\n",
       "      <td>2.102709</td>\n",
       "    </tr>\n",
       "    <tr>\n",
       "      <th>min</th>\n",
       "      <td>0.000000</td>\n",
       "      <td>0.000000</td>\n",
       "      <td>0.000000</td>\n",
       "      <td>0.000000</td>\n",
       "      <td>0.000000</td>\n",
       "      <td>0.000000</td>\n",
       "      <td>0.000000</td>\n",
       "      <td>0.000000</td>\n",
       "      <td>0.000000</td>\n",
       "      <td>0.000000</td>\n",
       "      <td>0.000000</td>\n",
       "      <td>0.000000</td>\n",
       "      <td>0.000000</td>\n",
       "      <td>0.000000</td>\n",
       "      <td>0.000000</td>\n",
       "      <td>0.000000</td>\n",
       "      <td>1.000000</td>\n",
       "    </tr>\n",
       "    <tr>\n",
       "      <th>25%</th>\n",
       "      <td>0.000000</td>\n",
       "      <td>0.000000</td>\n",
       "      <td>0.000000</td>\n",
       "      <td>0.000000</td>\n",
       "      <td>0.000000</td>\n",
       "      <td>0.000000</td>\n",
       "      <td>0.000000</td>\n",
       "      <td>0.000000</td>\n",
       "      <td>1.000000</td>\n",
       "      <td>1.000000</td>\n",
       "      <td>0.000000</td>\n",
       "      <td>0.000000</td>\n",
       "      <td>2.000000</td>\n",
       "      <td>0.000000</td>\n",
       "      <td>0.000000</td>\n",
       "      <td>0.000000</td>\n",
       "      <td>1.000000</td>\n",
       "    </tr>\n",
       "    <tr>\n",
       "      <th>50%</th>\n",
       "      <td>0.000000</td>\n",
       "      <td>0.000000</td>\n",
       "      <td>1.000000</td>\n",
       "      <td>0.000000</td>\n",
       "      <td>0.000000</td>\n",
       "      <td>0.000000</td>\n",
       "      <td>1.000000</td>\n",
       "      <td>1.000000</td>\n",
       "      <td>1.000000</td>\n",
       "      <td>1.000000</td>\n",
       "      <td>0.000000</td>\n",
       "      <td>0.000000</td>\n",
       "      <td>4.000000</td>\n",
       "      <td>1.000000</td>\n",
       "      <td>0.000000</td>\n",
       "      <td>0.000000</td>\n",
       "      <td>2.000000</td>\n",
       "    </tr>\n",
       "    <tr>\n",
       "      <th>75%</th>\n",
       "      <td>1.000000</td>\n",
       "      <td>0.000000</td>\n",
       "      <td>1.000000</td>\n",
       "      <td>1.000000</td>\n",
       "      <td>0.000000</td>\n",
       "      <td>1.000000</td>\n",
       "      <td>1.000000</td>\n",
       "      <td>1.000000</td>\n",
       "      <td>1.000000</td>\n",
       "      <td>1.000000</td>\n",
       "      <td>0.000000</td>\n",
       "      <td>0.000000</td>\n",
       "      <td>4.000000</td>\n",
       "      <td>1.000000</td>\n",
       "      <td>0.000000</td>\n",
       "      <td>1.000000</td>\n",
       "      <td>4.000000</td>\n",
       "    </tr>\n",
       "    <tr>\n",
       "      <th>max</th>\n",
       "      <td>1.000000</td>\n",
       "      <td>1.000000</td>\n",
       "      <td>1.000000</td>\n",
       "      <td>1.000000</td>\n",
       "      <td>1.000000</td>\n",
       "      <td>1.000000</td>\n",
       "      <td>1.000000</td>\n",
       "      <td>1.000000</td>\n",
       "      <td>1.000000</td>\n",
       "      <td>1.000000</td>\n",
       "      <td>1.000000</td>\n",
       "      <td>1.000000</td>\n",
       "      <td>8.000000</td>\n",
       "      <td>1.000000</td>\n",
       "      <td>1.000000</td>\n",
       "      <td>1.000000</td>\n",
       "      <td>7.000000</td>\n",
       "    </tr>\n",
       "  </tbody>\n",
       "</table>\n",
       "</div>"
      ],
      "text/plain": [
       "             hair    feathers        eggs        milk    airborne     aquatic  \\\n",
       "count  101.000000  101.000000  101.000000  101.000000  101.000000  101.000000   \n",
       "mean     0.425743    0.198020    0.584158    0.405941    0.237624    0.356436   \n",
       "std      0.496921    0.400495    0.495325    0.493522    0.427750    0.481335   \n",
       "min      0.000000    0.000000    0.000000    0.000000    0.000000    0.000000   \n",
       "25%      0.000000    0.000000    0.000000    0.000000    0.000000    0.000000   \n",
       "50%      0.000000    0.000000    1.000000    0.000000    0.000000    0.000000   \n",
       "75%      1.000000    0.000000    1.000000    1.000000    0.000000    1.000000   \n",
       "max      1.000000    1.000000    1.000000    1.000000    1.000000    1.000000   \n",
       "\n",
       "         predator     toothed    backbone    breathes    venomous        fins  \\\n",
       "count  101.000000  101.000000  101.000000  101.000000  101.000000  101.000000   \n",
       "mean     0.554455    0.603960    0.821782    0.792079    0.079208    0.168317   \n",
       "std      0.499505    0.491512    0.384605    0.407844    0.271410    0.376013   \n",
       "min      0.000000    0.000000    0.000000    0.000000    0.000000    0.000000   \n",
       "25%      0.000000    0.000000    1.000000    1.000000    0.000000    0.000000   \n",
       "50%      1.000000    1.000000    1.000000    1.000000    0.000000    0.000000   \n",
       "75%      1.000000    1.000000    1.000000    1.000000    0.000000    0.000000   \n",
       "max      1.000000    1.000000    1.000000    1.000000    1.000000    1.000000   \n",
       "\n",
       "             legs        tail    domestic     catsize  class_type  \n",
       "count  101.000000  101.000000  101.000000  101.000000  101.000000  \n",
       "mean     2.841584    0.742574    0.128713    0.435644    2.831683  \n",
       "std      2.033385    0.439397    0.336552    0.498314    2.102709  \n",
       "min      0.000000    0.000000    0.000000    0.000000    1.000000  \n",
       "25%      2.000000    0.000000    0.000000    0.000000    1.000000  \n",
       "50%      4.000000    1.000000    0.000000    0.000000    2.000000  \n",
       "75%      4.000000    1.000000    0.000000    1.000000    4.000000  \n",
       "max      8.000000    1.000000    1.000000    1.000000    7.000000  "
      ]
     },
     "execution_count": 8,
     "metadata": {},
     "output_type": "execute_result"
    }
   ],
   "source": [
    "# xem mô tả\n",
    "df.describe()"
   ]
  },
  {
   "cell_type": "markdown",
   "metadata": {
    "id": "kuYPWt8oL5QF"
   },
   "source": [
    "## Trực quan hóa dữ liệu"
   ]
  },
  {
   "cell_type": "code",
   "execution_count": 9,
   "metadata": {
    "execution": {
     "iopub.execute_input": "2022-10-29T06:33:00.628822Z",
     "iopub.status.busy": "2022-10-29T06:33:00.628306Z",
     "iopub.status.idle": "2022-10-29T06:33:01.223428Z",
     "shell.execute_reply": "2022-10-29T06:33:01.222638Z",
     "shell.execute_reply.started": "2022-10-29T06:33:00.628788Z"
    }
   },
   "outputs": [
    {
     "data": {
      "image/png": "[encoded data removed]",
      "text/plain": [
       "<Figure size 1152x648 with 2 Axes>"
      ]
     },
     "metadata": {
      "needs_background": "light"
     },
     "output_type": "display_data"
    }
   ],
   "source": [
    "plt.rcParams['font.size'] = 18\n",
    "ax = sns.heatmap(data=df.corr(),cmap='gnuplot')\n",
    "ax.tick_params(axis='x', rotation=-70)\n",
    "plt.show()"
   ]
  },
  {
   "cell_type": "markdown",
   "metadata": {},
   "source": [
    "## Chọn thuộc tính đặc trưng"
   ]
  },
  {
   "cell_type": "code",
   "execution_count": 10,
   "metadata": {
    "execution": {
     "iopub.execute_input": "2022-10-29T06:33:01.354428Z",
     "iopub.status.busy": "2022-10-29T06:33:01.353879Z",
     "iopub.status.idle": "2022-10-29T06:33:01.383521Z",
     "shell.execute_reply": "2022-10-29T06:33:01.381298Z",
     "shell.execute_reply.started": "2022-10-29T06:33:01.354384Z"
    }
   },
   "outputs": [
    {
     "data": {
      "text/html": [
       "<div>\n",
       "<style scoped>\n",
       "    .dataframe tbody tr th:only-of-type {\n",
       "        vertical-align: middle;\n",
       "    }\n",
       "\n",
       "    .dataframe tbody tr th {\n",
       "        vertical-align: top;\n",
       "    }\n",
       "\n",
       "    .dataframe thead th {\n",
       "        text-align: right;\n",
       "    }\n",
       "</style>\n",
       "<table border=\"1\" class=\"dataframe\">\n",
       "  <thead>\n",
       "    <tr style=\"text-align: right;\">\n",
       "      <th></th>\n",
       "      <th>hair</th>\n",
       "      <th>feathers</th>\n",
       "      <th>eggs</th>\n",
       "      <th>milk</th>\n",
       "      <th>airborne</th>\n",
       "      <th>aquatic</th>\n",
       "      <th>predator</th>\n",
       "      <th>toothed</th>\n",
       "      <th>backbone</th>\n",
       "      <th>breathes</th>\n",
       "      <th>venomous</th>\n",
       "      <th>fins</th>\n",
       "      <th>legs</th>\n",
       "      <th>tail</th>\n",
       "      <th>domestic</th>\n",
       "      <th>catsize</th>\n",
       "      <th>class_type</th>\n",
       "    </tr>\n",
       "  </thead>\n",
       "  <tbody>\n",
       "    <tr>\n",
       "      <th>0</th>\n",
       "      <td>1</td>\n",
       "      <td>0</td>\n",
       "      <td>0</td>\n",
       "      <td>1</td>\n",
       "      <td>0</td>\n",
       "      <td>0</td>\n",
       "      <td>1</td>\n",
       "      <td>1</td>\n",
       "      <td>1</td>\n",
       "      <td>1</td>\n",
       "      <td>0</td>\n",
       "      <td>0</td>\n",
       "      <td>4</td>\n",
       "      <td>0</td>\n",
       "      <td>0</td>\n",
       "      <td>1</td>\n",
       "      <td>1</td>\n",
       "    </tr>\n",
       "    <tr>\n",
       "      <th>1</th>\n",
       "      <td>1</td>\n",
       "      <td>0</td>\n",
       "      <td>0</td>\n",
       "      <td>1</td>\n",
       "      <td>0</td>\n",
       "      <td>0</td>\n",
       "      <td>0</td>\n",
       "      <td>1</td>\n",
       "      <td>1</td>\n",
       "      <td>1</td>\n",
       "      <td>0</td>\n",
       "      <td>0</td>\n",
       "      <td>4</td>\n",
       "      <td>1</td>\n",
       "      <td>0</td>\n",
       "      <td>1</td>\n",
       "      <td>1</td>\n",
       "    </tr>\n",
       "    <tr>\n",
       "      <th>2</th>\n",
       "      <td>0</td>\n",
       "      <td>0</td>\n",
       "      <td>1</td>\n",
       "      <td>0</td>\n",
       "      <td>0</td>\n",
       "      <td>1</td>\n",
       "      <td>1</td>\n",
       "      <td>1</td>\n",
       "      <td>1</td>\n",
       "      <td>0</td>\n",
       "      <td>0</td>\n",
       "      <td>1</td>\n",
       "      <td>0</td>\n",
       "      <td>1</td>\n",
       "      <td>0</td>\n",
       "      <td>0</td>\n",
       "      <td>4</td>\n",
       "    </tr>\n",
       "    <tr>\n",
       "      <th>3</th>\n",
       "      <td>1</td>\n",
       "      <td>0</td>\n",
       "      <td>0</td>\n",
       "      <td>1</td>\n",
       "      <td>0</td>\n",
       "      <td>0</td>\n",
       "      <td>1</td>\n",
       "      <td>1</td>\n",
       "      <td>1</td>\n",
       "      <td>1</td>\n",
       "      <td>0</td>\n",
       "      <td>0</td>\n",
       "      <td>4</td>\n",
       "      <td>0</td>\n",
       "      <td>0</td>\n",
       "      <td>1</td>\n",
       "      <td>1</td>\n",
       "    </tr>\n",
       "    <tr>\n",
       "      <th>4</th>\n",
       "      <td>1</td>\n",
       "      <td>0</td>\n",
       "      <td>0</td>\n",
       "      <td>1</td>\n",
       "      <td>0</td>\n",
       "      <td>0</td>\n",
       "      <td>1</td>\n",
       "      <td>1</td>\n",
       "      <td>1</td>\n",
       "      <td>1</td>\n",
       "      <td>0</td>\n",
       "      <td>0</td>\n",
       "      <td>4</td>\n",
       "      <td>1</td>\n",
       "      <td>0</td>\n",
       "      <td>1</td>\n",
       "      <td>1</td>\n",
       "    </tr>\n",
       "  </tbody>\n",
       "</table>\n",
       "</div>"
      ],
      "text/plain": [
       "   hair  feathers  eggs  milk  airborne  aquatic  predator  toothed  backbone  \\\n",
       "0     1         0     0     1         0        0         1        1         1   \n",
       "1     1         0     0     1         0        0         0        1         1   \n",
       "2     0         0     1     0         0        1         1        1         1   \n",
       "3     1         0     0     1         0        0         1        1         1   \n",
       "4     1         0     0     1         0        0         1        1         1   \n",
       "\n",
       "   breathes  venomous  fins  legs  tail  domestic  catsize  class_type  \n",
       "0         1         0     0     4     0         0        1           1  \n",
       "1         1         0     0     4     1         0        1           1  \n",
       "2         0         0     1     0     1         0        0           4  \n",
       "3         1         0     0     4     0         0        1           1  \n",
       "4         1         0     0     4     1         0        1           1  "
      ]
     },
     "execution_count": 10,
     "metadata": {},
     "output_type": "execute_result"
    }
   ],
   "source": [
    "# chọn bằng hệ số tương quan\n",
    "cor = df.corr()\n",
    "feature = cor.index[abs(cor['class_type'])>0].tolist()\n",
    "df_FE = df[feature]\n",
    "df_FE.head()"
   ]
  },
  {
   "cell_type": "markdown",
   "metadata": {
    "id": "Xwr6GEaOL5QG"
   },
   "source": [
    "## Xây dựng model decission tree"
   ]
  },
  {
   "cell_type": "markdown",
   "metadata": {},
   "source": [
    "***Hàm số entropy:*** biểu thị độ hỗn loạn dữ liệu $$H(p)=-\\sum_{i=1}^{n}p_i log(p_i)$$\n",
    "p là xác suất 1 biến rời rạc $p_i = p(x=x_i)$, $i=1,..., n$\\\n",
    "Quy ước: \n",
    "- $log = ln$\n",
    "- $log(0) = 0$"
   ]
  },
  {
   "cell_type": "markdown",
   "metadata": {},
   "source": [
    "***Thuật toán ID3:***\n",
    "\n",
    "- B1: Tính entropy của class\n",
    "- B2: Tính entropy của từng thuộc tính\n",
    "$$H(attr, class) = \\sum_{i=v_1}^{v_n}\\dfrac{N_i}{N_{Class}}H(attr)$$\n",
    "- B3: Tính thông tin Gain cho từng thuộc tính\n",
    "$$G(attr, Class) = H(Class)-H(attr, Class)$$\n",
    "Khi đó điểm tối ưu (thuộc tính được chọn làm node) $$x* = argmax(G(attr, Class)) = argmin(H(attr, Class))$$\n",
    "- B4: Kiểm tra trong các giá trị trong thuộc tính vừa chọn, nếu entropy bằng 0 thì đặt làm node lá\n",
    "- B5: thực hiện lại công việc trên với bộ dữ liệu mới từ các giá trị còn lại "
   ]
  },
  {
   "cell_type": "code",
   "execution_count": 11,
   "metadata": {
    "execution": {
     "iopub.execute_input": "2022-10-29T06:33:01.387030Z",
     "iopub.status.busy": "2022-10-29T06:33:01.386549Z",
     "iopub.status.idle": "2022-10-29T06:33:01.406745Z",
     "shell.execute_reply": "2022-10-29T06:33:01.405702Z",
     "shell.execute_reply.started": "2022-10-29T06:33:01.386979Z"
    },
    "id": "YKq2l6xmL5QG"
   },
   "outputs": [],
   "source": [
    "class ID3():\n",
    "    def __init__(self):\n",
    "        self.tree = None\n",
    "    \n",
    "    # tính entropy theo class\n",
    "    def ent(self, df) -> float:\n",
    "        return sum([-i*log(i) for i in df[df.columns[-1]].value_counts(normalize=True).values if i!=0])\n",
    "    \n",
    "    # tính entropy theo thuộc tính (attribute) + class\n",
    "    def  ent_atb(self, df, atb: str) -> float:\n",
    "        return abs(sum([self.ent(df[[atb, df.columns[-1]]][df[atb]==i]) * len(df[atb][df[atb]==i])/len(df) for i in df[atb].unique()]))\n",
    "\n",
    "    # tính thông tin gain\n",
    "    # đầu ra là tên thuộc tính có giá trị gain lớn nhất\n",
    "    def gain(self, df) -> str:\n",
    "        return df.columns[:-1][np.argmax([self.ent(df) - self.ent_atb(df, i) for i in df.columns[:-1]])]\n",
    "\n",
    "\n",
    "    # lọc lấy bảng con chứa 1 loại thông tin trong 1 trường dữ liệu\n",
    "    def sub_df(self, df, node, value):\n",
    "        return df[df[node] == value].reset_index(drop=True)\n",
    "\n",
    "    # xây dựng cây\n",
    "    def buildTree(self, df, tree = None):\n",
    "        node = self.gain(df)\n",
    "        attValue = np.unique(df[node])\n",
    "   \n",
    "        if tree is None:                    \n",
    "            tree = {}\n",
    "            tree[node] = {}\n",
    "\n",
    "        for value in attValue:\n",
    "            subtable = self.sub_df(df, node, value)\n",
    "            labels, counts = np.unique(subtable[df.columns[-1]],return_counts=True) \n",
    "            if len(counts) == 1:\n",
    "                tree[node][value] = labels[0]                                                    \n",
    "            else:        \n",
    "                tree[node][value] = self.buildTree(subtable)\n",
    "        return tree\n",
    "        \n",
    "    # fit mô hình\n",
    "    def fit(self, df):\n",
    "        self.tree = self.buildTree(df.astype('object'))\n",
    "\n",
    "    # dự đoán\n",
    "    def predict(self, df):\n",
    "        return np.array([int(self.pred(self.tree, i)) for _, i in df.iterrows()])\n",
    "\n",
    "    def pred(self, tree, sample) -> str:\n",
    "        if not isinstance(tree, dict):\n",
    "            return tree\n",
    "        else:\n",
    "            root_node = next(iter(tree))\n",
    "            feature_value = sample[root_node]\n",
    "            if feature_value in tree[root_node]:\n",
    "                return self.pred(tree[root_node][feature_value], sample)\n",
    "            else:\n",
    "                feature_value = list(tree[root_node].keys())[0]\n",
    "                return self.pred(tree[root_node][feature_value], sample)"
   ]
  },
  {
   "cell_type": "code",
   "execution_count": null,
   "metadata": {},
   "outputs": [],
   "source": []
  },
  {
   "cell_type": "code",
   "execution_count": 12,
   "metadata": {
    "execution": {
     "iopub.execute_input": "2022-10-29T06:33:01.410245Z",
     "iopub.status.busy": "2022-10-29T06:33:01.409909Z",
     "iopub.status.idle": "2022-10-29T06:33:01.422734Z",
     "shell.execute_reply": "2022-10-29T06:33:01.421882Z",
     "shell.execute_reply.started": "2022-10-29T06:33:01.410211Z"
    },
    "id": "acCz9QkDL5QH"
   },
   "outputs": [],
   "source": [
    "# tách dữ liệu tập huấn luyện và tập kiểm thử\n",
    "\n",
    "df_train, df_test = train_test_split(df_FE, test_size=0.2, random_state=42)"
   ]
  },
  {
   "cell_type": "code",
   "execution_count": 13,
   "metadata": {
    "execution": {
     "iopub.execute_input": "2022-10-29T06:33:01.424933Z",
     "iopub.status.busy": "2022-10-29T06:33:01.424422Z",
     "iopub.status.idle": "2022-10-29T06:33:22.389927Z",
     "shell.execute_reply": "2022-10-29T06:33:22.388640Z",
     "shell.execute_reply.started": "2022-10-29T06:33:01.424889Z"
    },
    "id": "ZiIm8nmlL5QH"
   },
   "outputs": [
    {
     "name": "stdout",
     "output_type": "stream",
     "text": [
      "{'legs': {0: {'aquatic': {0: {'toothed': {0: 7, 1: 3}},\n",
      "                          1: {'eggs': {0: 1, 1: 4}}}},\n",
      "          2: {'hair': {0: 2, 1: 1}},\n",
      "          4: {'hair': {0: {'aquatic': {0: 3, 1: {'toothed': {0: 7, 1: 5}}}},\n",
      "                       1: 1}},\n",
      "          5: 7,\n",
      "          6: {'aquatic': {0: 6, 1: 7}},\n",
      "          8: 7}}\n"
     ]
    }
   ],
   "source": [
    "# chạy mô hình\n",
    "model = ID3()\n",
    "model.fit(df_train)\n",
    "pprint(model.tree)"
   ]
  },
  {
   "cell_type": "code",
   "execution_count": 14,
   "metadata": {
    "execution": {
     "iopub.execute_input": "2022-10-29T06:33:22.392214Z",
     "iopub.status.busy": "2022-10-29T06:33:22.391607Z",
     "iopub.status.idle": "2022-10-29T06:33:22.453788Z",
     "shell.execute_reply": "2022-10-29T06:33:22.452688Z",
     "shell.execute_reply.started": "2022-10-29T06:33:22.392149Z"
    },
    "id": "LhTeAl2QL5QH",
    "outputId": "5a42ef60-2275-4ad1-b255-21719b6bffb2"
   },
   "outputs": [],
   "source": [
    "# dự đoán với tập dữ liệu kiểm thử\n",
    "X_test = df_test.iloc[:, :-1]\n",
    "y_test = df_test.iloc[:, -1]\n",
    "\n",
    "y_pred = model.predict(X_test)"
   ]
  },
  {
   "cell_type": "code",
   "execution_count": 15,
   "metadata": {
    "execution": {
     "iopub.execute_input": "2022-10-29T06:33:22.455356Z",
     "iopub.status.busy": "2022-10-29T06:33:22.455030Z",
     "iopub.status.idle": "2022-10-29T06:33:22.462559Z",
     "shell.execute_reply": "2022-10-29T06:33:22.461719Z",
     "shell.execute_reply.started": "2022-10-29T06:33:22.455323Z"
    },
    "id": "-ODFdsNdL5QI",
    "outputId": "7f60ca74-ae03-4cb7-ec3f-c7e914577f4a"
   },
   "outputs": [
    {
     "data": {
      "text/plain": [
       "0.9047619047619048"
      ]
     },
     "execution_count": 15,
     "metadata": {},
     "output_type": "execute_result"
    }
   ],
   "source": [
    "# đánh giá mô hình với tỷ lệ dự đoán đúng\n",
    "def accuracy_score(y_test, y_pred):\n",
    "    return np.sum(np.equal(y_test, y_pred))/len(y_test)\n",
    "\n",
    "accuracy_score(y_test, y_pred)"
   ]
  },
  {
   "cell_type": "markdown",
   "metadata": {},
   "source": [
    "> Mô hình dự đoán khá tốt"
   ]
  },
  {
   "cell_type": "markdown",
   "metadata": {
    "id": "69Hm85oTL5QJ"
   },
   "source": [
    "## Dùng thư viện sklean"
   ]
  },
  {
   "cell_type": "code",
   "execution_count": 16,
   "metadata": {
    "execution": {
     "iopub.execute_input": "2022-10-29T06:33:22.464358Z",
     "iopub.status.busy": "2022-10-29T06:33:22.463845Z",
     "iopub.status.idle": "2022-10-29T06:33:22.473396Z",
     "shell.execute_reply": "2022-10-29T06:33:22.472354Z",
     "shell.execute_reply.started": "2022-10-29T06:33:22.464321Z"
    }
   },
   "outputs": [],
   "source": [
    "df_ = df_FE"
   ]
  },
  {
   "cell_type": "code",
   "execution_count": 17,
   "metadata": {
    "execution": {
     "iopub.execute_input": "2022-10-29T06:33:22.475185Z",
     "iopub.status.busy": "2022-10-29T06:33:22.474641Z",
     "iopub.status.idle": "2022-10-29T06:33:22.484841Z",
     "shell.execute_reply": "2022-10-29T06:33:22.483816Z",
     "shell.execute_reply.started": "2022-10-29T06:33:22.475127Z"
    },
    "id": "NCwjB39VL5QJ"
   },
   "outputs": [],
   "source": [
    "# df_ = pd.get_dummies(df_)"
   ]
  },
  {
   "cell_type": "code",
   "execution_count": 18,
   "metadata": {
    "execution": {
     "iopub.execute_input": "2022-10-29T06:33:22.486720Z",
     "iopub.status.busy": "2022-10-29T06:33:22.486191Z",
     "iopub.status.idle": "2022-10-29T06:33:22.700801Z",
     "shell.execute_reply": "2022-10-29T06:33:22.699521Z",
     "shell.execute_reply.started": "2022-10-29T06:33:22.486679Z"
    },
    "id": "M84k5PHfL5QJ"
   },
   "outputs": [],
   "source": [
    "from sklearn.tree import DecisionTreeClassifier\n",
    "\n",
    "X, y = df.iloc[:, :-1], df.iloc[:, -1]\n",
    "X_train, X_test, y_train, y_test = train_test_split(X, y, test_size=0.2, random_state=42)\n",
    "\n",
    "clf = DecisionTreeClassifier(criterion='entropy', max_depth=5)\n",
    "clf = clf.fit(X_train, y_train)\n",
    "\n",
    "predictions = clf.predict(X_test)"
   ]
  },
  {
   "cell_type": "code",
   "execution_count": 19,
   "metadata": {
    "execution": {
     "iopub.execute_input": "2022-10-29T06:33:22.702669Z",
     "iopub.status.busy": "2022-10-29T06:33:22.702307Z",
     "iopub.status.idle": "2022-10-29T06:33:22.709122Z",
     "shell.execute_reply": "2022-10-29T06:33:22.707845Z",
     "shell.execute_reply.started": "2022-10-29T06:33:22.702633Z"
    },
    "id": "847TJ_6NL5QJ",
    "outputId": "3a117256-a233-4832-8b56-e0fcbf935ed3"
   },
   "outputs": [
    {
     "name": "stdout",
     "output_type": "stream",
     "text": [
      "1.0\n"
     ]
    }
   ],
   "source": [
    "# đánh giá\n",
    "print(accuracy_score(y_test, predictions))"
   ]
  },
  {
   "cell_type": "code",
   "execution_count": 20,
   "metadata": {},
   "outputs": [],
   "source": [
    "from sklearn.tree import plot_tree"
   ]
  },
  {
   "cell_type": "code",
   "execution_count": 21,
   "metadata": {},
   "outputs": [
    {
     "data": {
      "text/plain": [
       "[Text(0.4090909090909091, 0.9, 'X[16] <= 2.5\\nentropy = 2.445\\nsamples = 80\\nvalue = [4, 18, 5, 11, 9, 29, 4]'),\n",
       " Text(0.18181818181818182, 0.7, 'X[16] <= 1.5\\nentropy = 0.96\\nsamples = 47\\nvalue = [0, 18, 0, 0, 0, 29, 0]'),\n",
       " Text(0.09090909090909091, 0.5, 'entropy = 0.0\\nsamples = 29\\nvalue = [0, 0, 0, 0, 0, 29, 0]'),\n",
       " Text(0.2727272727272727, 0.5, 'entropy = 0.0\\nsamples = 18\\nvalue = [0, 18, 0, 0, 0, 0, 0]'),\n",
       " Text(0.6363636363636364, 0.7, 'X[16] <= 4.5\\nentropy = 2.19\\nsamples = 33\\nvalue = [4, 0, 5, 11, 9, 0, 4]'),\n",
       " Text(0.45454545454545453, 0.5, 'X[16] <= 3.5\\nentropy = 0.837\\nsamples = 15\\nvalue = [0, 0, 0, 11, 0, 0, 4]'),\n",
       " Text(0.36363636363636365, 0.3, 'entropy = 0.0\\nsamples = 4\\nvalue = [0, 0, 0, 0, 0, 0, 4]'),\n",
       " Text(0.5454545454545454, 0.3, 'entropy = 0.0\\nsamples = 11\\nvalue = [0, 0, 0, 11, 0, 0, 0]'),\n",
       " Text(0.8181818181818182, 0.5, 'X[16] <= 6.5\\nentropy = 1.496\\nsamples = 18\\nvalue = [4, 0, 5, 0, 9, 0, 0]'),\n",
       " Text(0.7272727272727273, 0.3, 'X[12] <= 5.0\\nentropy = 0.991\\nsamples = 9\\nvalue = [4, 0, 5, 0, 0, 0, 0]'),\n",
       " Text(0.6363636363636364, 0.1, 'entropy = 0.0\\nsamples = 4\\nvalue = [4, 0, 0, 0, 0, 0, 0]'),\n",
       " Text(0.8181818181818182, 0.1, 'entropy = 0.0\\nsamples = 5\\nvalue = [0, 0, 5, 0, 0, 0, 0]'),\n",
       " Text(0.9090909090909091, 0.3, 'entropy = 0.0\\nsamples = 9\\nvalue = [0, 0, 0, 0, 9, 0, 0]')]"
      ]
     },
     "execution_count": 21,
     "metadata": {},
     "output_type": "execute_result"
    },
    {
     "data": {
      "image/png": "[encoded data removed]",
      "text/plain": [
       "<Figure size 1152x648 with 1 Axes>"
      ]
     },
     "metadata": {
      "needs_background": "light"
     },
     "output_type": "display_data"
    }
   ],
   "source": [
    "plot_tree(clf)"
   ]
  },
  {
   "cell_type": "code",
   "execution_count": null,
   "metadata": {},
   "outputs": [],
   "source": []
  },
  {
   "cell_type": "code",
   "execution_count": null,
   "metadata": {},
   "outputs": [],
   "source": [
    "\n"
   ]
  },
  {
   "cell_type": "code",
   "execution_count": null,
   "metadata": {},
   "outputs": [],
   "source": []
  }
 ],
 "metadata": {
  "colab": {
   "collapsed_sections": [],
   "provenance": []
  },
  "kernelspec": {
   "display_name": "Python 3 (ipykernel)",
   "language": "python",
   "name": "python3"
  },
  "language_info": {
   "codemirror_mode": {
    "name": "ipython",
    "version": 3
   },
   "file_extension": ".py",
   "mimetype": "text/x-python",
   "name": "python",
   "nbconvert_exporter": "python",
   "pygments_lexer": "ipython3",
   "version": "3.9.12"
  },
  "vscode": {
   "interpreter": {
    "hash": "26de051ba29f2982a8de78e945f0abaf191376122a1563185a90213a26c5da77"
   }
  }
 },
 "nbformat": 4,
 "nbformat_minor": 4
}
