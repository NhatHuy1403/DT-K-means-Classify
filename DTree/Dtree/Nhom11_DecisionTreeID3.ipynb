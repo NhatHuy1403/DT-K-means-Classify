{
 "cells": [
  {
   "cell_type": "markdown",
   "metadata": {},
   "source": [
    "## Nhóm 11:\n",
    "**Thành viên:**<br>\n",
    "*Võ Quốc Huy - 20081001<br>\n",
    "Nguyễn Quang Bảo - 20083601<br>\n",
    "Nguyễn Xuân Giang - 20079601*"
   ]
  },
  {
   "cell_type": "markdown",
   "metadata": {
    "_uuid": "70021535838915d35c71ceff3ec4fa9251343b2d",
    "colab_type": "text",
    "id": "zIxcnSXZK3Db"
   },
   "source": [
    "## Decision tree ID3"
   ]
  },
  {
   "cell_type": "code",
   "execution_count": 1,
   "metadata": {
    "_uuid": "aaa4969bfcb622fdf3850558fe5c9d6a0b72dc11",
    "colab": {
     "autoexec": {
      "startup": false,
      "wait_interval": 0
     }
    },
    "colab_type": "code",
    "id": "7gO5NmcEK3Dm"
   },
   "outputs": [],
   "source": [
    "# import các thư viện cần thiết\n",
    "import pandas as pd\n",
    "import numpy as np\n",
    "from pprint import pprint"
   ]
  },
  {
   "cell_type": "markdown",
   "metadata": {},
   "source": [
    "# Giới thiệu data"
   ]
  },
  {
   "cell_type": "markdown",
   "metadata": {},
   "source": [
    "- Bộ dữ liệu này bao gồm 101 loài động vật từ một vườn thú.<br>\n",
    "- Có 16 biến với các đặc điểm khác nhau để mô tả các loài động vật.<br>\n",
    "- Mục đích của tập dữ liệu này là có thể dự đoán thuộc tính của các loài động vật<br>\n",
    "- Link data: https://www.kaggle.com/datasets/uciml/zoo-animal-classification?select=zoo.csv"
   ]
  },
  {
   "cell_type": "markdown",
   "metadata": {},
   "source": [
    "**Mô tả**<br>\n",
    "Thông tin thuộc tính\n",
    "\n",
    "1. animal_name: Tên<br>\n",
    "2. hair: lông<br>\n",
    "3. feathers: lông vũ <br>\n",
    "4. eggs: trứng<br>\n",
    "5. milk: sữa<br>\n",
    "6. airborne: trên không<br>\n",
    "7. aquatic: thủy sinh<br>\n",
    "8. predator: Động vật ăn thịt<br>\n",
    "9. toothed: có răng<br>\n",
    "10. backbone: xương sống<br>\n",
    "11. breathes: thở bằng phổi<br>\n",
    "12. venomous: có nọc độc<br>\n",
    "13. fins: vây<br>\n",
    "14. legs Numeric (set of values: {0,2,4,5,6,8}): chân<br>\n",
    "15. tail: có đuôi<br>\n",
    "16. domestic: nội địa<br>\n",
    "17. catsize: <br>\n",
    "18. class_type Numeric (integer values in range [1,7]): giá trị nguyên<br>"
   ]
  },
  {
   "cell_type": "markdown",
   "metadata": {},
   "source": [
    "# Khám phá dữ liệu"
   ]
  },
  {
   "cell_type": "code",
   "execution_count": 2,
   "metadata": {
    "_uuid": "bce8a9fe8d4b8c43bbfadd0f25682954fe25c89e",
    "colab": {
     "autoexec": {
      "startup": false,
      "wait_interval": 0
     }
    },
    "colab_type": "code",
    "id": "epgCWiOPK3D1"
   },
   "outputs": [],
   "source": [
    "dataset = pd.read_csv('zoo_data.csv',index_col=0)"
   ]
  },
  {
   "cell_type": "code",
   "execution_count": 3,
   "metadata": {
    "_uuid": "fdcbcd35033041a46ee906db394ff9ebace34a05",
    "colab": {
     "autoexec": {
      "startup": false,
      "wait_interval": 0
     }
    },
    "colab_type": "code",
    "id": "ZqVSGSr8K3D_"
   },
   "outputs": [
    {
     "data": {
      "text/html": [
       "<div>\n",
       "<style scoped>\n",
       "    .dataframe tbody tr th:only-of-type {\n",
       "        vertical-align: middle;\n",
       "    }\n",
       "\n",
       "    .dataframe tbody tr th {\n",
       "        vertical-align: top;\n",
       "    }\n",
       "\n",
       "    .dataframe thead th {\n",
       "        text-align: right;\n",
       "    }\n",
       "</style>\n",
       "<table border=\"1\" class=\"dataframe\">\n",
       "  <thead>\n",
       "    <tr style=\"text-align: right;\">\n",
       "      <th></th>\n",
       "      <th>animal_name</th>\n",
       "      <th>hair</th>\n",
       "      <th>feathers</th>\n",
       "      <th>eggs</th>\n",
       "      <th>milk</th>\n",
       "      <th>airbone</th>\n",
       "      <th>aquatic</th>\n",
       "      <th>predator</th>\n",
       "      <th>toothed</th>\n",
       "      <th>backbone</th>\n",
       "      <th>breathes</th>\n",
       "      <th>venomous</th>\n",
       "      <th>fins</th>\n",
       "      <th>legs</th>\n",
       "      <th>tail</th>\n",
       "      <th>domestic</th>\n",
       "      <th>catsize</th>\n",
       "      <th>class</th>\n",
       "    </tr>\n",
       "  </thead>\n",
       "  <tbody>\n",
       "    <tr>\n",
       "      <th>0</th>\n",
       "      <td>aardvark</td>\n",
       "      <td>1</td>\n",
       "      <td>0</td>\n",
       "      <td>0</td>\n",
       "      <td>1</td>\n",
       "      <td>0</td>\n",
       "      <td>0</td>\n",
       "      <td>1</td>\n",
       "      <td>1</td>\n",
       "      <td>1</td>\n",
       "      <td>1</td>\n",
       "      <td>0</td>\n",
       "      <td>0</td>\n",
       "      <td>4</td>\n",
       "      <td>0</td>\n",
       "      <td>0</td>\n",
       "      <td>1</td>\n",
       "      <td>1</td>\n",
       "    </tr>\n",
       "    <tr>\n",
       "      <th>1</th>\n",
       "      <td>antelope</td>\n",
       "      <td>1</td>\n",
       "      <td>0</td>\n",
       "      <td>0</td>\n",
       "      <td>1</td>\n",
       "      <td>0</td>\n",
       "      <td>0</td>\n",
       "      <td>0</td>\n",
       "      <td>1</td>\n",
       "      <td>1</td>\n",
       "      <td>1</td>\n",
       "      <td>0</td>\n",
       "      <td>0</td>\n",
       "      <td>4</td>\n",
       "      <td>1</td>\n",
       "      <td>0</td>\n",
       "      <td>1</td>\n",
       "      <td>1</td>\n",
       "    </tr>\n",
       "    <tr>\n",
       "      <th>2</th>\n",
       "      <td>bass</td>\n",
       "      <td>0</td>\n",
       "      <td>0</td>\n",
       "      <td>1</td>\n",
       "      <td>0</td>\n",
       "      <td>0</td>\n",
       "      <td>1</td>\n",
       "      <td>1</td>\n",
       "      <td>1</td>\n",
       "      <td>1</td>\n",
       "      <td>0</td>\n",
       "      <td>0</td>\n",
       "      <td>1</td>\n",
       "      <td>0</td>\n",
       "      <td>1</td>\n",
       "      <td>0</td>\n",
       "      <td>0</td>\n",
       "      <td>4</td>\n",
       "    </tr>\n",
       "    <tr>\n",
       "      <th>3</th>\n",
       "      <td>bear</td>\n",
       "      <td>1</td>\n",
       "      <td>0</td>\n",
       "      <td>0</td>\n",
       "      <td>1</td>\n",
       "      <td>0</td>\n",
       "      <td>0</td>\n",
       "      <td>1</td>\n",
       "      <td>1</td>\n",
       "      <td>1</td>\n",
       "      <td>1</td>\n",
       "      <td>0</td>\n",
       "      <td>0</td>\n",
       "      <td>4</td>\n",
       "      <td>0</td>\n",
       "      <td>0</td>\n",
       "      <td>1</td>\n",
       "      <td>1</td>\n",
       "    </tr>\n",
       "    <tr>\n",
       "      <th>4</th>\n",
       "      <td>boar</td>\n",
       "      <td>1</td>\n",
       "      <td>0</td>\n",
       "      <td>0</td>\n",
       "      <td>1</td>\n",
       "      <td>0</td>\n",
       "      <td>0</td>\n",
       "      <td>1</td>\n",
       "      <td>1</td>\n",
       "      <td>1</td>\n",
       "      <td>1</td>\n",
       "      <td>0</td>\n",
       "      <td>0</td>\n",
       "      <td>4</td>\n",
       "      <td>1</td>\n",
       "      <td>0</td>\n",
       "      <td>1</td>\n",
       "      <td>1</td>\n",
       "    </tr>\n",
       "  </tbody>\n",
       "</table>\n",
       "</div>"
      ],
      "text/plain": [
       "  animal_name  hair  feathers  eggs  milk  airbone  aquatic  predator  \\\n",
       "0    aardvark     1         0     0     1        0        0         1   \n",
       "1    antelope     1         0     0     1        0        0         0   \n",
       "2        bass     0         0     1     0        0        1         1   \n",
       "3        bear     1         0     0     1        0        0         1   \n",
       "4        boar     1         0     0     1        0        0         1   \n",
       "\n",
       "   toothed  backbone  breathes  venomous  fins  legs  tail  domestic  catsize  \\\n",
       "0        1         1         1         0     0     4     0         0        1   \n",
       "1        1         1         1         0     0     4     1         0        1   \n",
       "2        1         1         0         0     1     0     1         0        0   \n",
       "3        1         1         1         0     0     4     0         0        1   \n",
       "4        1         1         1         0     0     4     1         0        1   \n",
       "\n",
       "   class  \n",
       "0      1  \n",
       "1      1  \n",
       "2      4  \n",
       "3      1  \n",
       "4      1  "
      ]
     },
     "execution_count": 3,
     "metadata": {},
     "output_type": "execute_result"
    }
   ],
   "source": [
    "dataset.head()"
   ]
  },
  {
   "cell_type": "code",
   "execution_count": 4,
   "metadata": {},
   "outputs": [
    {
     "data": {
      "text/plain": [
       "(101, 18)"
      ]
     },
     "execution_count": 4,
     "metadata": {},
     "output_type": "execute_result"
    }
   ],
   "source": [
    "dataset.shape"
   ]
  },
  {
   "cell_type": "code",
   "execution_count": 5,
   "metadata": {},
   "outputs": [],
   "source": [
    "# xóa cột animal name\n",
    "dataset=dataset.drop('animal_name',axis=1)"
   ]
  },
  {
   "cell_type": "code",
   "execution_count": 6,
   "metadata": {},
   "outputs": [
    {
     "data": {
      "text/plain": [
       "hair        0\n",
       "feathers    0\n",
       "eggs        0\n",
       "milk        0\n",
       "airbone     0\n",
       "aquatic     0\n",
       "predator    0\n",
       "toothed     0\n",
       "backbone    0\n",
       "breathes    0\n",
       "venomous    0\n",
       "fins        0\n",
       "legs        0\n",
       "tail        0\n",
       "domestic    0\n",
       "catsize     0\n",
       "class       0\n",
       "dtype: int64"
      ]
     },
     "execution_count": 6,
     "metadata": {},
     "output_type": "execute_result"
    }
   ],
   "source": [
    "#kiểm tra dữ liệu nal\n",
    "dataset.isna().sum()"
   ]
  },
  {
   "cell_type": "code",
   "execution_count": 7,
   "metadata": {},
   "outputs": [
    {
     "name": "stdout",
     "output_type": "stream",
     "text": [
      "<class 'pandas.core.frame.DataFrame'>\n",
      "Int64Index: 101 entries, 0 to 100\n",
      "Data columns (total 17 columns):\n",
      " #   Column    Non-Null Count  Dtype\n",
      "---  ------    --------------  -----\n",
      " 0   hair      101 non-null    int64\n",
      " 1   feathers  101 non-null    int64\n",
      " 2   eggs      101 non-null    int64\n",
      " 3   milk      101 non-null    int64\n",
      " 4   airbone   101 non-null    int64\n",
      " 5   aquatic   101 non-null    int64\n",
      " 6   predator  101 non-null    int64\n",
      " 7   toothed   101 non-null    int64\n",
      " 8   backbone  101 non-null    int64\n",
      " 9   breathes  101 non-null    int64\n",
      " 10  venomous  101 non-null    int64\n",
      " 11  fins      101 non-null    int64\n",
      " 12  legs      101 non-null    int64\n",
      " 13  tail      101 non-null    int64\n",
      " 14  domestic  101 non-null    int64\n",
      " 15  catsize   101 non-null    int64\n",
      " 16  class     101 non-null    int64\n",
      "dtypes: int64(17)\n",
      "memory usage: 14.2 KB\n"
     ]
    }
   ],
   "source": [
    "#xem thông tin bộ dữ liệu\n",
    "dataset.info()"
   ]
  },
  {
   "cell_type": "markdown",
   "metadata": {},
   "source": [
    "# Model Decision Tree"
   ]
  },
  {
   "cell_type": "code",
   "execution_count": 18,
   "metadata": {
    "_uuid": "960bb7349ab9bb9724184669cfc80d0eff6df05d"
   },
   "outputs": [],
   "source": [
    "#tính entropy\n",
    "def entropy(target_col):\n",
    "    elements,counts = np.unique(target_col,return_counts = True)\n",
    "    entropy = np.sum([(-counts[i]/np.sum(counts))*np.log2(counts[i]/np.sum(counts)) for i in range(len(elements))])\n",
    "    return entropy"
   ]
  },
  {
   "cell_type": "code",
   "execution_count": 19,
   "metadata": {
    "_uuid": "962e172317f46f4f0955312d36254d374bf9af91"
   },
   "outputs": [],
   "source": [
    "#tính thông tin gain\n",
    "def InfoGain(data,split_attribute_name,target_name=\"class\"):\n",
    " \n",
    "    total_entropy = entropy(data[target_name])\n",
    "     \n",
    "    vals,counts= np.unique(data[split_attribute_name],return_counts=True)\n",
    "    \n",
    "    Weighted_Entropy = np.sum([(counts[i]/np.sum(counts))*entropy(data.where(data[split_attribute_name]==vals[i]).dropna()[target_name]) for i in range(len(vals))])\n",
    "    \n",
    "    Information_Gain = total_entropy - Weighted_Entropy\n",
    "    return Information_Gain"
   ]
  },
  {
   "cell_type": "code",
   "execution_count": 28,
   "metadata": {
    "_uuid": "eba22905fe2b013368678100b3d280c4476cdcb6"
   },
   "outputs": [],
   "source": [
    "\n",
    "def ID3(data,originaldata,features,target_attribute_name=\"class\",parent_node_class = None):\n",
    "    if len(np.unique(data[target_attribute_name])) <= 1:\n",
    "        #print(data[target_attribute_name])\n",
    "        return np.unique(data[target_attribute_name])[0]\n",
    "    elif len(data)==0:\n",
    "        return np.unique(originaldata[target_attribute_name])[np.argmax(np.unique(originaldata[target_attribute_name],return_counts=True)[1])]\n",
    "    \n",
    "    elif len(features) ==0:\n",
    "        return parent_node_class   \n",
    "    else:\n",
    "        parent_node_class = np.unique(data[target_attribute_name])[np.argmax(np.unique(data[target_attribute_name],return_counts=True)[1])]  \n",
    "        item_values = [InfoGain(data,feature,target_attribute_name) for feature in features] \n",
    "        best_feature_index = np.argmax(item_values)\n",
    "        best_feature = features[best_feature_index]\n",
    "        tree = {best_feature:{}}\n",
    "        features = [i for i in features if i != best_feature]       \n",
    "        for value in np.unique(data[best_feature]):\n",
    "            value = value\n",
    "            sub_data = data.where(data[best_feature] == value).dropna()\n",
    "            subtree = ID3(sub_data,originaldata,features,target_attribute_name,parent_node_class)\n",
    "            tree[best_feature][value] = subtree\n",
    "            \n",
    "        return(tree)"
   ]
  },
  {
   "cell_type": "markdown",
   "metadata": {
    "_uuid": "9f20bb08681c840b134c3c8cd7566b126163c232",
    "colab_type": "text",
    "id": "o2ui2RwEK3EI"
   },
   "source": [
    "**Dự đoán**"
   ]
  },
  {
   "cell_type": "code",
   "execution_count": 29,
   "metadata": {
    "_uuid": "95ed7ba9825811d9612d6b6e251edf38e94bba43",
    "colab": {
     "autoexec": {
      "startup": false,
      "wait_interval": 0
     }
    },
    "colab_type": "code",
    "id": "zNW7xSHQK3EK"
   },
   "outputs": [],
   "source": [
    "def predict(query,tree,default = 1):   \n",
    "    #1.\n",
    "    for key in list(query.keys()):\n",
    "        if key in list(tree.keys()):\n",
    "            #2.\n",
    "            try:\n",
    "                result = tree[key][query[key]] \n",
    "            except:\n",
    "                return default\n",
    "  \n",
    "            #3.\n",
    "            result = tree[key][query[key]]\n",
    "            #4.\n",
    "            if isinstance(result,dict):\n",
    "                return predict(query,result)\n",
    "            else:\n",
    "                return result\n",
    "        "
   ]
  },
  {
   "cell_type": "code",
   "execution_count": 30,
   "metadata": {
    "_uuid": "e9e43dc401f1ca74fd174ab6e62871bb82a49f05",
    "colab": {
     "autoexec": {
      "startup": false,
      "wait_interval": 0
     }
    },
    "colab_type": "code",
    "id": "gNK59MwRK3ET"
   },
   "outputs": [
    {
     "data": {
      "text/plain": [
       "(101, 17)"
      ]
     },
     "execution_count": 30,
     "metadata": {},
     "output_type": "execute_result"
    }
   ],
   "source": [
    "dataset.shape"
   ]
  },
  {
   "cell_type": "markdown",
   "metadata": {},
   "source": [
    "**Tách dữ liệu tập huấn luyện và tập kiểm thử**"
   ]
  },
  {
   "cell_type": "code",
   "execution_count": 31,
   "metadata": {
    "_uuid": "592b5089b7b55edcd8d287c150325e70be8e710d",
    "colab": {
     "autoexec": {
      "startup": false,
      "wait_interval": 0
     }
    },
    "colab_type": "code",
    "id": "d14_wHuHK3Ea"
   },
   "outputs": [],
   "source": [
    "def train_test_split(dataset):\n",
    "    training_data = dataset.iloc[:80].reset_index(drop=True)\n",
    "    testing_data = dataset.iloc[80:].reset_index(drop=True)\n",
    "    return training_data,testing_data\n",
    "training_data = train_test_split(dataset)[0]\n",
    "testing_data = train_test_split(dataset)[1] \n",
    "\n"
   ]
  },
  {
   "cell_type": "markdown",
   "metadata": {
    "_uuid": "5963e0dc0fd09ef18848cce46316b5d308342797",
    "colab_type": "text",
    "id": "rhTq4JnZK3Ef"
   },
   "source": [
    "**Dự đoán với tập dữ liệu kiểm thử**"
   ]
  },
  {
   "cell_type": "code",
   "execution_count": 32,
   "metadata": {
    "_uuid": "024488259b88b20216c8489d183d666a7d214fdf",
    "colab": {
     "autoexec": {
      "startup": false,
      "wait_interval": 0
     }
    },
    "colab_type": "code",
    "id": "CY35aYlOK3Eg"
   },
   "outputs": [],
   "source": [
    "def test(data,tree):\n",
    "    queries = data.iloc[:,:-1].to_dict(orient = \"records\")\n",
    "    print(len(queries))\n",
    "    predicted = pd.DataFrame(columns=[\"predicted\"]) \n",
    "    for i in range(len(data)):\n",
    "        predicted.loc[i,\"predicted\"] = predict(queries[i],tree,1.0) \n",
    "       # print(predict(queries[i],tree,1.0) )\n",
    "    return np.sum(((predicted[\"predicted\"] == data[\"class\"])/len(data)))"
   ]
  },
  {
   "cell_type": "markdown",
   "metadata": {},
   "source": [
    "**Solution**"
   ]
  },
  {
   "cell_type": "code",
   "execution_count": 33,
   "metadata": {
    "_uuid": "6747a178406470fd1fd4d7695ef900d14ed74fb1",
    "colab": {
     "autoexec": {
      "startup": false,
      "wait_interval": 0
     }
    },
    "colab_type": "code",
    "id": "IaLvV4cUK3Eo"
   },
   "outputs": [
    {
     "name": "stdout",
     "output_type": "stream",
     "text": [
      "{'legs': {0: {'fins': {0.0: {'toothed': {0.0: 7.0, 1.0: 3.0}},\n",
      "                       1.0: {'eggs': {0.0: 1.0, 1.0: 4.0}}}},\n",
      "          2: {'hair': {0.0: 2.0, 1.0: 1.0}},\n",
      "          4: {'hair': {0.0: {'toothed': {0.0: 7.0, 1.0: 5.0}}, 1.0: 1.0}},\n",
      "          6: {'aquatic': {0.0: 6.0, 1.0: 7.0}},\n",
      "          8: 7.0}}\n",
      "\n",
      "\n",
      "21\n",
      "The prediction accuracy is:  0.8571428571428574\n"
     ]
    }
   ],
   "source": [
    "\n",
    "tree = ID3(training_data,training_data,training_data.columns[:-1])\n",
    "pprint(tree)\n",
    "print('\\n')\n",
    "print('The prediction accuracy is: ',test(testing_data,tree))\n",
    "#test(testing_data,tree)"
   ]
  },
  {
   "cell_type": "code",
   "execution_count": 34,
   "metadata": {},
   "outputs": [
    {
     "name": "stdout",
     "output_type": "stream",
     "text": [
      "[0, 2, 4, 6, 8]\n",
      "[0, 2, 4, 5, 6]\n"
     ]
    }
   ],
   "source": [
    "# view issue with prediction\n",
    "print(sorted(training_data['legs'].unique()))\n",
    "print(sorted(testing_data['legs'].unique()))"
   ]
  },
  {
   "cell_type": "code",
   "execution_count": null,
   "metadata": {},
   "outputs": [],
   "source": []
  }
 ],
 "metadata": {
  "colab": {
   "default_view": {},
   "name": "Experiment_3.ipynb",
   "provenance": [],
   "version": "0.3.2",
   "views": {}
  },
  "kernelspec": {
   "display_name": "Python 3 (ipykernel)",
   "language": "python",
   "name": "python3"
  },
  "language_info": {
   "codemirror_mode": {
    "name": "ipython",
    "version": 3
   },
   "file_extension": ".py",
   "mimetype": "text/x-python",
   "name": "python",
   "nbconvert_exporter": "python",
   "pygments_lexer": "ipython3",
   "version": "3.9.12"
  }
 },
 "nbformat": 4,
 "nbformat_minor": 1
}
