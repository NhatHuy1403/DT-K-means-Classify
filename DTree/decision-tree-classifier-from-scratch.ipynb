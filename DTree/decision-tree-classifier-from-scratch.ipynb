{
 "cells": [
  {
   "cell_type": "code",
   "execution_count": null,
   "metadata": {},
   "outputs": [],
   "source": []
  },
  {
   "cell_type": "markdown",
   "metadata": {},
   "source": [
    "# Creating Decision Tree Classifier from Scratch"
   ]
  },
  {
   "cell_type": "markdown",
   "metadata": {},
   "source": [
    "Making the ID3 Decision Tree algorithm using entropy from scratch. The zoo data is from http://archive.ics.uci.edu/ml/datasets/zoo."
   ]
  },
  {
   "cell_type": "markdown",
   "metadata": {},
   "source": [
    "Begin by first importing any useful or frequently used dependencies, followed by reading the zoo.csv file."
   ]
  },
  {
   "cell_type": "code",
   "execution_count": 10,
   "metadata": {
    "execution": {
     "iopub.execute_input": "2022-10-30T06:55:26.502645Z",
     "iopub.status.busy": "2022-10-30T06:55:26.502174Z",
     "iopub.status.idle": "2022-10-30T06:55:26.544411Z",
     "shell.execute_reply": "2022-10-30T06:55:26.543577Z",
     "shell.execute_reply.started": "2022-10-30T06:55:26.502604Z"
    }
   },
   "outputs": [
    {
     "data": {
      "text/html": [
       "<div>\n",
       "<style scoped>\n",
       "    .dataframe tbody tr th:only-of-type {\n",
       "        vertical-align: middle;\n",
       "    }\n",
       "\n",
       "    .dataframe tbody tr th {\n",
       "        vertical-align: top;\n",
       "    }\n",
       "\n",
       "    .dataframe thead th {\n",
       "        text-align: right;\n",
       "    }\n",
       "</style>\n",
       "<table border=\"1\" class=\"dataframe\">\n",
       "  <thead>\n",
       "    <tr style=\"text-align: right;\">\n",
       "      <th></th>\n",
       "      <th>animal_name</th>\n",
       "      <th>hair</th>\n",
       "      <th>feathers</th>\n",
       "      <th>eggs</th>\n",
       "      <th>milk</th>\n",
       "      <th>airbone</th>\n",
       "      <th>aquatic</th>\n",
       "      <th>predator</th>\n",
       "      <th>toothed</th>\n",
       "      <th>backbone</th>\n",
       "      <th>breathes</th>\n",
       "      <th>venomous</th>\n",
       "      <th>fins</th>\n",
       "      <th>legs</th>\n",
       "      <th>tail</th>\n",
       "      <th>domestic</th>\n",
       "      <th>catsize</th>\n",
       "      <th>class</th>\n",
       "    </tr>\n",
       "  </thead>\n",
       "  <tbody>\n",
       "    <tr>\n",
       "      <th>0</th>\n",
       "      <td>aardvark</td>\n",
       "      <td>1</td>\n",
       "      <td>0</td>\n",
       "      <td>0</td>\n",
       "      <td>1</td>\n",
       "      <td>0</td>\n",
       "      <td>0</td>\n",
       "      <td>1</td>\n",
       "      <td>1</td>\n",
       "      <td>1</td>\n",
       "      <td>1</td>\n",
       "      <td>0</td>\n",
       "      <td>0</td>\n",
       "      <td>4</td>\n",
       "      <td>0</td>\n",
       "      <td>0</td>\n",
       "      <td>1</td>\n",
       "      <td>1</td>\n",
       "    </tr>\n",
       "    <tr>\n",
       "      <th>1</th>\n",
       "      <td>antelope</td>\n",
       "      <td>1</td>\n",
       "      <td>0</td>\n",
       "      <td>0</td>\n",
       "      <td>1</td>\n",
       "      <td>0</td>\n",
       "      <td>0</td>\n",
       "      <td>0</td>\n",
       "      <td>1</td>\n",
       "      <td>1</td>\n",
       "      <td>1</td>\n",
       "      <td>0</td>\n",
       "      <td>0</td>\n",
       "      <td>4</td>\n",
       "      <td>1</td>\n",
       "      <td>0</td>\n",
       "      <td>1</td>\n",
       "      <td>1</td>\n",
       "    </tr>\n",
       "    <tr>\n",
       "      <th>2</th>\n",
       "      <td>bass</td>\n",
       "      <td>0</td>\n",
       "      <td>0</td>\n",
       "      <td>1</td>\n",
       "      <td>0</td>\n",
       "      <td>0</td>\n",
       "      <td>1</td>\n",
       "      <td>1</td>\n",
       "      <td>1</td>\n",
       "      <td>1</td>\n",
       "      <td>0</td>\n",
       "      <td>0</td>\n",
       "      <td>1</td>\n",
       "      <td>0</td>\n",
       "      <td>1</td>\n",
       "      <td>0</td>\n",
       "      <td>0</td>\n",
       "      <td>4</td>\n",
       "    </tr>\n",
       "    <tr>\n",
       "      <th>3</th>\n",
       "      <td>bear</td>\n",
       "      <td>1</td>\n",
       "      <td>0</td>\n",
       "      <td>0</td>\n",
       "      <td>1</td>\n",
       "      <td>0</td>\n",
       "      <td>0</td>\n",
       "      <td>1</td>\n",
       "      <td>1</td>\n",
       "      <td>1</td>\n",
       "      <td>1</td>\n",
       "      <td>0</td>\n",
       "      <td>0</td>\n",
       "      <td>4</td>\n",
       "      <td>0</td>\n",
       "      <td>0</td>\n",
       "      <td>1</td>\n",
       "      <td>1</td>\n",
       "    </tr>\n",
       "    <tr>\n",
       "      <th>4</th>\n",
       "      <td>boar</td>\n",
       "      <td>1</td>\n",
       "      <td>0</td>\n",
       "      <td>0</td>\n",
       "      <td>1</td>\n",
       "      <td>0</td>\n",
       "      <td>0</td>\n",
       "      <td>1</td>\n",
       "      <td>1</td>\n",
       "      <td>1</td>\n",
       "      <td>1</td>\n",
       "      <td>0</td>\n",
       "      <td>0</td>\n",
       "      <td>4</td>\n",
       "      <td>1</td>\n",
       "      <td>0</td>\n",
       "      <td>1</td>\n",
       "      <td>1</td>\n",
       "    </tr>\n",
       "  </tbody>\n",
       "</table>\n",
       "</div>"
      ],
      "text/plain": [
       "  animal_name  hair  feathers  eggs  milk  airbone  aquatic  predator  \\\n",
       "0    aardvark     1         0     0     1        0        0         1   \n",
       "1    antelope     1         0     0     1        0        0         0   \n",
       "2        bass     0         0     1     0        0        1         1   \n",
       "3        bear     1         0     0     1        0        0         1   \n",
       "4        boar     1         0     0     1        0        0         1   \n",
       "\n",
       "   toothed  backbone  breathes  venomous  fins  legs  tail  domestic  catsize  \\\n",
       "0        1         1         1         0     0     4     0         0        1   \n",
       "1        1         1         1         0     0     4     1         0        1   \n",
       "2        1         1         0         0     1     0     1         0        0   \n",
       "3        1         1         1         0     0     4     0         0        1   \n",
       "4        1         1         1         0     0     4     1         0        1   \n",
       "\n",
       "   class  \n",
       "0      1  \n",
       "1      1  \n",
       "2      4  \n",
       "3      1  \n",
       "4      1  "
      ]
     },
     "execution_count": 10,
     "metadata": {},
     "output_type": "execute_result"
    }
   ],
   "source": [
    "import pandas as pd\n",
    "import numpy as np\n",
    "from pprint import pprint\n",
    "import io\n",
    "\n",
    "dataset = pd.read_csv('zoo_data.csv',index_col=0)\n",
    "dataset.head()"
   ]
  },
  {
   "cell_type": "markdown",
   "metadata": {},
   "source": [
    "The animal_name column will be removed as it is simply an identifier which will not provide useful information to this implementation."
   ]
  },
  {
   "cell_type": "code",
   "execution_count": 11,
   "metadata": {
    "_cell_guid": "b1076dfc-b9ad-4769-8c92-a6c4dae69d19",
    "_uuid": "8f2839f25d086af736a60e9eeb907d3b93b6e0e5",
    "execution": {
     "iopub.execute_input": "2022-10-30T06:55:26.547202Z",
     "iopub.status.busy": "2022-10-30T06:55:26.546841Z",
     "iopub.status.idle": "2022-10-30T06:55:26.551079Z",
     "shell.execute_reply": "2022-10-30T06:55:26.550569Z",
     "shell.execute_reply.started": "2022-10-30T06:55:26.547175Z"
    }
   },
   "outputs": [],
   "source": [
    "# remove animal names column, as bad feature to split data on\n",
    "dataset=dataset.drop('animal_name',axis=1)"
   ]
  },
  {
   "cell_type": "markdown",
   "metadata": {},
   "source": [
    "Reusable functions are created for the calculation of entropy and information gain as noted by the ID3 algorithm.\n",
    "\n",
    "Entropy is the measure of the amount of uncertainty and information gain is the measure of the difference in entropy from before to after the data is split on an attribute/feature. https://en.wikipedia.org/wiki/ID3_algorithm"
   ]
  },
  {
   "cell_type": "code",
   "execution_count": 12,
   "metadata": {
    "_cell_guid": "79c7e3d0-c299-4dcb-8224-4455121ee9b0",
    "_uuid": "d629ff2d2480ee46fbb7e2d37f6b5fab8052498a",
    "execution": {
     "iopub.execute_input": "2022-10-30T06:55:26.552256Z",
     "iopub.status.busy": "2022-10-30T06:55:26.552004Z",
     "iopub.status.idle": "2022-10-30T06:55:26.564321Z",
     "shell.execute_reply": "2022-10-30T06:55:26.563378Z",
     "shell.execute_reply.started": "2022-10-30T06:55:26.552232Z"
    }
   },
   "outputs": [],
   "source": [
    "# calculate entropy\n",
    "def compute_entropy(samples):\n",
    "    if len(samples) < 2:\n",
    "        return 0\n",
    "    freq = np.array(samples.value_counts(normalize=True))\n",
    "    return -(freq * np.log2(freq + 1e-6)).sum()\n",
    "\n",
    "# calculate information gain\n",
    "def info_gain(data, attr, target):\n",
    "    values = data[attr].value_counts(normalize=True)\n",
    "    split_ent = 0\n",
    "    for value, count in values.iteritems():\n",
    "        idx = data[attr] == value\n",
    "        sub_ent = compute_entropy(target[idx])\n",
    "        split_ent += count * sub_ent\n",
    "    ent = compute_entropy(target)\n",
    "    return ent - split_ent"
   ]
  },
  {
   "cell_type": "code",
   "execution_count": 13,
   "metadata": {
    "execution": {
     "iopub.execute_input": "2022-10-30T06:55:26.565813Z",
     "iopub.status.busy": "2022-10-30T06:55:26.565565Z",
     "iopub.status.idle": "2022-10-30T06:55:26.582010Z",
     "shell.execute_reply": "2022-10-30T06:55:26.581016Z",
     "shell.execute_reply.started": "2022-10-30T06:55:26.565788Z"
    }
   },
   "outputs": [],
   "source": [
    "# tree implementation\n",
    "class TreeNode:\n",
    "    # recursively defined data structure to store tree\n",
    "    # each node contains other nodes as children\n",
    "    def __init__(self, node=\"\", min_sample=1, default_decision=None):\n",
    "        self.children = {} # sub nodes\n",
    "        self.decision = None # undecided\n",
    "        self.split_feat = None # splitting feature\n",
    "        self.name = node\n",
    "        self.default_decision = default_decision\n",
    "        self.min_sample = min_sample\n",
    "\n",
    "    # pretty print function\n",
    "    def pretty_print(self, prefix=''):\n",
    "        if self.split_feat is not None:\n",
    "            for each, value in self.children.items():\n",
    "                value.pretty_print(f\"{prefix}:When {self.split_feat} is {each}\")\n",
    "        else:\n",
    "            print(f\"{prefix}:{self.decision}\")\n",
    "\n",
    "    # predict function\n",
    "    def predict(self, data):\n",
    "        if self.decision is not None:\n",
    "            # uncomment to debug, view more details\n",
    "            # print(\"Decision:\", self.decision)\n",
    "            return self.decision\n",
    "        else:\n",
    "            attr_val = data[self.split_feat]\n",
    "            if self.children.get(attr_val) is None:\n",
    "                return self.decision\n",
    "            child = self.children[attr_val]\n",
    "            # uncomment to debug, view more details\n",
    "            # print(\"Testing \", self.split_feat, \"->\", attr_val)\n",
    "            return child.predict(data)\n",
    "\n",
    "    # fit data to model\n",
    "    def fit(self, data, target):\n",
    "        # function accepts training dataset\n",
    "        # from which a tree is built to make decisions or to make children nodes\n",
    "        # set prediction to mode if decision is none\n",
    "        if self.default_decision is None:\n",
    "            self.default_decision = target.mode()[0]\n",
    "        # uncomment to debug, view more details\n",
    "        # print(self.name, \"received\", len(data), \"samples\")\n",
    "        # if length of data is less than specified min sample, make decision\n",
    "        if len(data) < self.min_sample:\n",
    "        # if data is empty, arbitrary decision is made\n",
    "            if len(data) == 0:\n",
    "                self.decision = self.default_decision\n",
    "                # uncomment to debug, view more details\n",
    "                # print(\"Decision: \", self.decision)\n",
    "                # else mode is used\n",
    "            else:\n",
    "                self.decision = target.mode()[0]\n",
    "                # uncomment to debug, view more details\n",
    "                # print(\"Decision: \", self.decision)\n",
    "            return\n",
    "        else:\n",
    "            unique_values = target.unique()\n",
    "            # if only 1 unique prediction in target, make decision the target\n",
    "            if len(unique_values) == 1:\n",
    "                self.decision = unique_values[0]\n",
    "                # uncomment to debug, view more details\n",
    "                # print(\"Decision: \", self.decision)\n",
    "                return\n",
    "            else:\n",
    "                # select split feature\n",
    "                info_gain_max = 0\n",
    "                for attr in data.keys(): # examine each attribute\n",
    "                    attr_ig = info_gain(data, attr, target)\n",
    "                    if attr_ig > info_gain_max:\n",
    "                        info_gain_max = attr_ig\n",
    "                        self.split_feat = attr\n",
    "                # uncomment to debug, view more details\n",
    "                # print(f\"Split by {self.split_feat}, IG: {info_gain_max:.2f}\")\n",
    "                self.children = {}\n",
    "                for value in data[self.split_feat].unique():\n",
    "                    idx = data[self.split_feat] == value\n",
    "                    self.children[value] = TreeNode(node=self.name + \":\" + self.split_feat + \"==\" + str(value),\n",
    "                                                    min_sample=self.min_sample,\n",
    "                                                    default_decision=self.default_decision)\n",
    "                    self.children[value].fit(data[idx], target[idx])"
   ]
  },
  {
   "cell_type": "code",
   "execution_count": 14,
   "metadata": {
    "execution": {
     "iopub.execute_input": "2022-10-30T06:55:26.584340Z",
     "iopub.status.busy": "2022-10-30T06:55:26.584100Z",
     "iopub.status.idle": "2022-10-30T06:55:27.819821Z",
     "shell.execute_reply": "2022-10-30T06:55:27.818827Z",
     "shell.execute_reply.started": "2022-10-30T06:55:26.584315Z"
    }
   },
   "outputs": [],
   "source": [
    "# Test tree building\n",
    "\n",
    "from sklearn.model_selection import train_test_split\n",
    "\n",
    "data = dataset.drop([\"class\"], axis=1)\n",
    "target = dataset[\"class\"]\n",
    "\n",
    "X_train, X_test, Y_train, Y_test = train_test_split(data, target, train_size=0.7, random_state=1)\n",
    "\n",
    "# min samples can be adjusted based on tolerance of data samples\n",
    "clf = TreeNode(min_sample=1)\n",
    "clf.fit(X_train, Y_train)\n"
   ]
  },
  {
   "cell_type": "code",
   "execution_count": 15,
   "metadata": {
    "execution": {
     "iopub.execute_input": "2022-10-30T06:55:27.821355Z",
     "iopub.status.busy": "2022-10-30T06:55:27.821139Z",
     "iopub.status.idle": "2022-10-30T06:55:27.827398Z",
     "shell.execute_reply": "2022-10-30T06:55:27.826548Z",
     "shell.execute_reply.started": "2022-10-30T06:55:27.821331Z"
    }
   },
   "outputs": [
    {
     "name": "stdout",
     "output_type": "stream",
     "text": [
      ":When legs is 0:When fins is 1:When eggs is 1:4\n",
      ":When legs is 0:When fins is 1:When eggs is 0:1\n",
      ":When legs is 0:When fins is 0:When toothed is 0:7\n",
      ":When legs is 0:When fins is 0:When toothed is 1:3\n",
      ":When legs is 2:When hair is 1:1\n",
      ":When legs is 2:When hair is 0:2\n",
      ":When legs is 4:When hair is 1:1\n",
      ":When legs is 4:When hair is 0:When aquatic is 0:3\n",
      ":When legs is 4:When hair is 0:When aquatic is 1:When toothed is 1:5\n",
      ":When legs is 4:When hair is 0:When aquatic is 1:When toothed is 0:7\n",
      ":When legs is 8:7\n",
      ":When legs is 6:When aquatic is 0:6\n",
      ":When legs is 6:When aquatic is 1:7\n"
     ]
    }
   ],
   "source": [
    "# view decision tree and the features it splits on\n",
    "clf.pretty_print()"
   ]
  },
  {
   "cell_type": "code",
   "execution_count": 16,
   "metadata": {
    "execution": {
     "iopub.execute_input": "2022-10-30T06:55:27.828732Z",
     "iopub.status.busy": "2022-10-30T06:55:27.828394Z",
     "iopub.status.idle": "2022-10-30T06:55:27.848767Z",
     "shell.execute_reply": "2022-10-30T06:55:27.847612Z",
     "shell.execute_reply.started": "2022-10-30T06:55:27.828705Z"
    }
   },
   "outputs": [
    {
     "name": "stdout",
     "output_type": "stream",
     "text": [
      "Training accuracy:  1.0\n",
      "Validating accuracy:  0.9677\n"
     ]
    }
   ],
   "source": [
    "# measuring accuracy and validating performance\n",
    "\n",
    "def accuracy(data, targ):\n",
    "    count = 0\n",
    "    for (i, ct), target in zip(data.iterrows(), targ):\n",
    "        prediction = clf.predict(ct)\n",
    "        if prediction == target:\n",
    "            count += 1\n",
    "    return round(count/len(targ), 4)\n",
    "\n",
    "print(\"Training accuracy: \", accuracy(X_train, Y_train))\n",
    "print(\"Validating accuracy: \", accuracy(X_test, Y_test))"
   ]
  },
  {
   "cell_type": "code",
   "execution_count": 17,
   "metadata": {
    "execution": {
     "iopub.execute_input": "2022-10-30T06:55:27.850284Z",
     "iopub.status.busy": "2022-10-30T06:55:27.850011Z",
     "iopub.status.idle": "2022-10-30T06:55:27.856391Z",
     "shell.execute_reply": "2022-10-30T06:55:27.855441Z",
     "shell.execute_reply.started": "2022-10-30T06:55:27.850259Z"
    }
   },
   "outputs": [
    {
     "name": "stdout",
     "output_type": "stream",
     "text": [
      "[0, 2, 4, 6, 8]\n",
      "[0, 2, 4, 5, 6]\n"
     ]
    }
   ],
   "source": [
    "# view issue with prediction\n",
    "\n",
    "print(sorted(X_train['legs'].unique()))\n",
    "print(sorted(X_test['legs'].unique()))"
   ]
  },
  {
   "cell_type": "markdown",
   "metadata": {},
   "source": [
    "From investigating the unique values in the number of legs column, we can see that the model is tested on an animal with 5 legs which was not present in the training set and is likely why an error has been produced."
   ]
  },
  {
   "cell_type": "markdown",
   "metadata": {},
   "source": [
    "We can also visualise the effects of adjusting the min_sample parameter"
   ]
  },
  {
   "cell_type": "code",
   "execution_count": 18,
   "metadata": {
    "execution": {
     "iopub.execute_input": "2022-10-30T06:55:27.857786Z",
     "iopub.status.busy": "2022-10-30T06:55:27.857532Z",
     "iopub.status.idle": "2022-10-30T06:55:35.600195Z",
     "shell.execute_reply": "2022-10-30T06:55:35.598965Z",
     "shell.execute_reply.started": "2022-10-30T06:55:27.857759Z"
    }
   },
   "outputs": [
    {
     "data": {
      "image/png": "[encoded data removed]",
      "text/plain": [
       "<Figure size 432x288 with 1 Axes>"
      ]
     },
     "metadata": {
      "needs_background": "light"
     },
     "output_type": "display_data"
    }
   ],
   "source": [
    "import seaborn as sns\n",
    "import matplotlib.pyplot as plt\n",
    "\n",
    "# used to inspect accuracy as min sample restriction increases\n",
    "train_sample_accuracy = []\n",
    "test_sample_accuracy = []\n",
    "best_param = 0\n",
    "for i in range(0,51):\n",
    "    clf = TreeNode(min_sample=i)\n",
    "    clf.fit(X_train, Y_train)\n",
    "    train_sample_accuracy.append(accuracy(X_train, Y_train))\n",
    "    test_sample_accuracy.append(accuracy(X_test, Y_test))\n",
    "\n",
    "merged = [train_sample_accuracy] + [test_sample_accuracy]\n",
    "#sns.lineplot(data=(merged)) - won't work in kaggle :(\n",
    "sns.lineplot(data=np.array(train_sample_accuracy), label=\"Training Set\")\n",
    "sns.lineplot(data=np.array(test_sample_accuracy), label=\"Test set\")\n",
    "plt.show()"
   ]
  },
  {
   "cell_type": "code",
   "execution_count": 22,
   "metadata": {},
   "outputs": [
    {
     "data": {
      "text/plain": [
       "[[1.0,\n",
       "  1.0,\n",
       "  1.0,\n",
       "  1.0,\n",
       "  1.0,\n",
       "  0.9857,\n",
       "  0.9571,\n",
       "  0.9143,\n",
       "  0.9143,\n",
       "  0.9143,\n",
       "  0.9143,\n",
       "  0.9143,\n",
       "  0.9143,\n",
       "  0.8857,\n",
       "  0.8857,\n",
       "  0.8857,\n",
       "  0.8857,\n",
       "  0.8857,\n",
       "  0.8429,\n",
       "  0.8429,\n",
       "  0.8429,\n",
       "  0.7714,\n",
       "  0.7714,\n",
       "  0.7714,\n",
       "  0.7714,\n",
       "  0.7714,\n",
       "  0.7286,\n",
       "  0.7286,\n",
       "  0.7286,\n",
       "  0.7286,\n",
       "  0.7286,\n",
       "  0.7286,\n",
       "  0.7286,\n",
       "  0.7286,\n",
       "  0.7286,\n",
       "  0.7286,\n",
       "  0.7286,\n",
       "  0.7286,\n",
       "  0.7286,\n",
       "  0.7286,\n",
       "  0.7286,\n",
       "  0.7286,\n",
       "  0.7286,\n",
       "  0.7286,\n",
       "  0.7286,\n",
       "  0.7286,\n",
       "  0.7286,\n",
       "  0.7286,\n",
       "  0.7286,\n",
       "  0.7286,\n",
       "  0.7286,\n",
       "  0.7286,\n",
       "  1.0,\n",
       "  1.0,\n",
       "  1.0,\n",
       "  1.0,\n",
       "  1.0,\n",
       "  0.9857,\n",
       "  0.9571,\n",
       "  0.9143,\n",
       "  0.9143,\n",
       "  0.9143,\n",
       "  0.9143,\n",
       "  0.9143,\n",
       "  0.9143,\n",
       "  0.8857,\n",
       "  0.8857,\n",
       "  0.8857,\n",
       "  0.8857,\n",
       "  0.8857,\n",
       "  0.8429,\n",
       "  0.8429,\n",
       "  0.8429,\n",
       "  0.7714,\n",
       "  0.7714,\n",
       "  0.7714,\n",
       "  0.7714,\n",
       "  0.7714,\n",
       "  0.7286,\n",
       "  0.7286,\n",
       "  0.7286,\n",
       "  0.7286,\n",
       "  0.7286,\n",
       "  0.7286,\n",
       "  0.7286,\n",
       "  0.7286,\n",
       "  0.7286,\n",
       "  0.7286,\n",
       "  0.7286,\n",
       "  0.7286,\n",
       "  0.7286,\n",
       "  0.7286,\n",
       "  0.7286,\n",
       "  0.7286,\n",
       "  0.7286,\n",
       "  0.7286,\n",
       "  0.7286,\n",
       "  0.7286,\n",
       "  0.7286,\n",
       "  0.7286,\n",
       "  0.7286,\n",
       "  0.7286,\n",
       "  0.7286],\n",
       " [0.9677,\n",
       "  0.9677,\n",
       "  0.9677,\n",
       "  0.9677,\n",
       "  0.9677,\n",
       "  0.9677,\n",
       "  0.9355,\n",
       "  0.9032,\n",
       "  0.9032,\n",
       "  0.9032,\n",
       "  0.9032,\n",
       "  0.9032,\n",
       "  0.9032,\n",
       "  0.871,\n",
       "  0.871,\n",
       "  0.871,\n",
       "  0.871,\n",
       "  0.871,\n",
       "  0.8387,\n",
       "  0.8387,\n",
       "  0.8387,\n",
       "  0.7742,\n",
       "  0.7742,\n",
       "  0.7742,\n",
       "  0.7742,\n",
       "  0.7742,\n",
       "  0.7419,\n",
       "  0.7419,\n",
       "  0.7419,\n",
       "  0.7419,\n",
       "  0.7419,\n",
       "  0.7419,\n",
       "  0.7419,\n",
       "  0.7419,\n",
       "  0.7419,\n",
       "  0.7419,\n",
       "  0.7419,\n",
       "  0.7419,\n",
       "  0.7419,\n",
       "  0.7419,\n",
       "  0.7419,\n",
       "  0.7419,\n",
       "  0.7419,\n",
       "  0.7419,\n",
       "  0.7419,\n",
       "  0.7419,\n",
       "  0.7419,\n",
       "  0.7419,\n",
       "  0.7419,\n",
       "  0.7419,\n",
       "  0.7419,\n",
       "  0.9677,\n",
       "  0.9677,\n",
       "  0.9677,\n",
       "  0.9677,\n",
       "  0.9677,\n",
       "  0.9677,\n",
       "  0.9355,\n",
       "  0.9032,\n",
       "  0.9032,\n",
       "  0.9032,\n",
       "  0.9032,\n",
       "  0.9032,\n",
       "  0.9032,\n",
       "  0.871,\n",
       "  0.871,\n",
       "  0.871,\n",
       "  0.871,\n",
       "  0.871,\n",
       "  0.8387,\n",
       "  0.8387,\n",
       "  0.8387,\n",
       "  0.7742,\n",
       "  0.7742,\n",
       "  0.7742,\n",
       "  0.7742,\n",
       "  0.7742,\n",
       "  0.7419,\n",
       "  0.7419,\n",
       "  0.7419,\n",
       "  0.7419,\n",
       "  0.7419,\n",
       "  0.7419,\n",
       "  0.7419,\n",
       "  0.7419,\n",
       "  0.7419,\n",
       "  0.7419,\n",
       "  0.7419,\n",
       "  0.7419,\n",
       "  0.7419,\n",
       "  0.7419,\n",
       "  0.7419,\n",
       "  0.7419,\n",
       "  0.7419,\n",
       "  0.7419,\n",
       "  0.7419,\n",
       "  0.7419,\n",
       "  0.7419,\n",
       "  0.7419,\n",
       "  0.7419,\n",
       "  0.7419,\n",
       "  0.7419]]"
      ]
     },
     "execution_count": 22,
     "metadata": {},
     "output_type": "execute_result"
    }
   ],
   "source": [
    "merged"
   ]
  },
  {
   "cell_type": "markdown",
   "metadata": {},
   "source": [
    "Unsurprisingly, the more minimum samples that are required to generate a split will lower the accuracy of the model. Although accuracy is reduced, this feature is still useful when you want to discard attributes with very little samples."
   ]
  }
 ],
 "metadata": {
  "kernelspec": {
   "display_name": "Python 3 (ipykernel)",
   "language": "python",
   "name": "python3"
  },
  "language_info": {
   "codemirror_mode": {
    "name": "ipython",
    "version": 3
   },
   "file_extension": ".py",
   "mimetype": "text/x-python",
   "name": "python",
   "nbconvert_exporter": "python",
   "pygments_lexer": "ipython3",
   "version": "3.9.12"
  }
 },
 "nbformat": 4,
 "nbformat_minor": 4
}
